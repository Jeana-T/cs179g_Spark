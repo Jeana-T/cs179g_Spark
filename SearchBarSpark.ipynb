{
 "cells": [
  {
   "cell_type": "code",
   "execution_count": 34,
   "metadata": {},
   "outputs": [],
   "source": [
    "import pyspark\n",
    "import pandas as pd\n",
    "import numpy as np\n",
    "import matplotlib.pyplot as plt\n",
    "from pyspark.sql import functions as func\n",
    "from pyspark.sql.types import StringType,FloatType\n",
    "import nltk\n",
    "from pyspark.sql import SparkSession\n"
   ]
  },
  {
   "cell_type": "code",
   "execution_count": 76,
   "metadata": {},
   "outputs": [
    {
     "name": "stderr",
     "output_type": "stream",
     "text": [
      "                                                                                \r"
     ]
    }
   ],
   "source": [
    "# reading in flight data csv\n",
    "spark = SparkSession.builder.master('local[*]').appName('FlightAnalysis').getOrCreate()\n",
    "combinedFlightsDF = spark.read.options(header = True, inferSchema = True).csv(\"FlightData\")"
   ]
  },
  {
   "cell_type": "code",
   "execution_count": 77,
   "metadata": {},
   "outputs": [],
   "source": [
    "# drops unnecessary columns\n",
    "drop_cols = (\"FlightDate\",\"Origin\",\"Dest\",\"Diverted\",\"DepDelayMinutes\",\"ArrDelayMinutes\",\"IATA_Code_Operating_Airline\",\"DestAirportSeqID\",\"DestCityMarketID\",\"DOT_ID_Operating_Airline\",\"DOT_ID_Marketing_Airline\",\"IATA_Code_Marketing_Airline\",\"Operated_or_Branded_Code_Share_Partners\",\"CRSDepTime\",\"DepDelay\",\"AirTime\",\"CRSElapsedTime\", \"Distance\", \"Marketing_Airline_Network\", \"Flight_Number_Marketing_Airline\", \"Operating_Airline\", \"Tail_Number\", \"Flight_Number_Operating_Airline\", \"OriginAirportID\",  \"OriginAirportSeqID\", \"OriginCityMarketID\",  \"OriginState\",  \"OriginStateFips\",  \"OriginStateName\", \"OriginWac\", \"DestAirportID\", \"DestState\", \"DestStateFips\", \"DestStateName\", \"DestWac\", \"DepartureDelayGroups\", \"DepTimeBlk\", \"TaxiOut\", \"WheelsOff\", \"WheelsOn\", \"TaxiIn\", \"CRSArrTime\", \"ArrDelay\", \"ArrivalDelayGroups\", \"ArrTimeBlk\", \"DistanceGroup\", \"DivAirportLandings\")\n",
    "combinedFlightsDF = combinedFlightsDF.drop(*drop_cols)"
   ]
  },
  {
   "cell_type": "code",
   "execution_count": 78,
   "metadata": {},
   "outputs": [
    {
     "name": "stdout",
     "output_type": "stream",
     "text": [
      "+---------+---------+-------+-------+-----------------+----+-------+-----+----------+---------+---------------+------------+--------+--------+\n",
      "|  Airline|Cancelled|DepTime|ArrTime|ActualElapsedTime|Year|Quarter|Month|DayofMonth|DayOfWeek| OriginCityName|DestCityName|DepDel15|ArrDel15|\n",
      "+---------+---------+-------+-------+-----------------+----+-------+-----+----------+---------+---------------+------------+--------+--------+\n",
      "|Envoy Air|    false| 1209.0| 1350.0|            101.0|2019|      2|    4|         1|        1|Little Rock, AR| Chicago, IL|     0.0|     0.0|\n",
      "|Envoy Air|    false| 1200.0| 1348.0|            108.0|2019|      2|    4|         2|        2|Little Rock, AR| Chicago, IL|     0.0|     0.0|\n",
      "|Envoy Air|    false| 1203.0| 1342.0|             99.0|2019|      2|    4|         3|        3|Little Rock, AR| Chicago, IL|     0.0|     0.0|\n",
      "|Envoy Air|    false| 1435.0| 1621.0|            106.0|2019|      2|    4|         4|        4|Little Rock, AR| Chicago, IL|     1.0|     1.0|\n",
      "|Envoy Air|    false| 1216.0| 1410.0|            114.0|2019|      2|    4|         5|        5|Little Rock, AR| Chicago, IL|     0.0|     0.0|\n",
      "+---------+---------+-------+-------+-----------------+----+-------+-----+----------+---------+---------------+------------+--------+--------+\n",
      "only showing top 5 rows\n",
      "\n"
     ]
    }
   ],
   "source": [
    "combinedFlightsDF.show(5)"
   ]
  },
  {
   "cell_type": "code",
   "execution_count": 79,
   "metadata": {},
   "outputs": [],
   "source": [
    "searchBarDropCols = (\"Cancelled\",\"Quarter\",\"DayOfWeek\")\n",
    "searchBarDF = combinedFlightsDF.drop(*searchBarDropCols)"
   ]
  },
  {
   "cell_type": "code",
   "execution_count": 80,
   "metadata": {},
   "outputs": [
    {
     "name": "stdout",
     "output_type": "stream",
     "text": [
      "+---------+-------+-------+-----------------+----+-----+----------+---------------+------------+--------+--------+\n",
      "|  Airline|DepTime|ArrTime|ActualElapsedTime|Year|Month|DayofMonth| OriginCityName|DestCityName|DepDel15|ArrDel15|\n",
      "+---------+-------+-------+-----------------+----+-----+----------+---------------+------------+--------+--------+\n",
      "|Envoy Air| 1209.0| 1350.0|            101.0|2019|    4|         1|Little Rock, AR| Chicago, IL|     0.0|     0.0|\n",
      "|Envoy Air| 1200.0| 1348.0|            108.0|2019|    4|         2|Little Rock, AR| Chicago, IL|     0.0|     0.0|\n",
      "|Envoy Air| 1203.0| 1342.0|             99.0|2019|    4|         3|Little Rock, AR| Chicago, IL|     0.0|     0.0|\n",
      "|Envoy Air| 1435.0| 1621.0|            106.0|2019|    4|         4|Little Rock, AR| Chicago, IL|     1.0|     1.0|\n",
      "|Envoy Air| 1216.0| 1410.0|            114.0|2019|    4|         5|Little Rock, AR| Chicago, IL|     0.0|     0.0|\n",
      "+---------+-------+-------+-----------------+----+-----+----------+---------------+------------+--------+--------+\n",
      "only showing top 5 rows\n",
      "\n"
     ]
    }
   ],
   "source": [
    "searchBarDF.show(5)"
   ]
  },
  {
   "cell_type": "code",
   "execution_count": null,
   "metadata": {},
   "outputs": [],
   "source": [
    "#Creates csv with specified data (DONT RUN)\n",
    "combinedFlightsDF.write.option(\"header\",True).csv(\"combinedFlightsSearchBar\")"
   ]
  },
  {
   "cell_type": "code",
   "execution_count": 82,
   "metadata": {},
   "outputs": [
    {
     "name": "stderr",
     "output_type": "stream",
     "text": [
      "[Stage 127:====================================================>  (74 + 3) / 77]\r"
     ]
    },
    {
     "name": "stdout",
     "output_type": "stream",
     "text": [
      "+----+-------+\n",
      "|Year|  count|\n",
      "+----+-------+\n",
      "|2019|8091684|\n",
      "|2018|5689521|\n",
      "|2022|4078327|\n",
      "|2020|5022397|\n",
      "|2021|6311871|\n",
      "+----+-------+\n",
      "\n"
     ]
    },
    {
     "name": "stderr",
     "output_type": "stream",
     "text": [
      "                                                                                \r"
     ]
    }
   ],
   "source": [
    "#dont need to run\n",
    "# Find # of flights per year\n",
    "yearCount = combinedFlightsDF.groupBy(\"Year\").count()\n",
    "yearCount.show()"
   ]
  },
  {
   "cell_type": "code",
   "execution_count": 83,
   "metadata": {},
   "outputs": [
    {
     "name": "stdout",
     "output_type": "stream",
     "text": [
      "+---------+---------+----+-------+-----+---------+---------------+--------+--------+\n",
      "|  Airline|Cancelled|Year|Quarter|Month|DayOfWeek| OriginCityName|DepDel15|ArrDel15|\n",
      "+---------+---------+----+-------+-----+---------+---------------+--------+--------+\n",
      "|Envoy Air|    false|2019|      2|    4|        1|Little Rock, AR|     0.0|     0.0|\n",
      "|Envoy Air|    false|2019|      2|    4|        2|Little Rock, AR|     0.0|     0.0|\n",
      "|Envoy Air|    false|2019|      2|    4|        3|Little Rock, AR|     0.0|     0.0|\n",
      "|Envoy Air|    false|2019|      2|    4|        4|Little Rock, AR|     1.0|     1.0|\n",
      "|Envoy Air|    false|2019|      2|    4|        5|Little Rock, AR|     0.0|     0.0|\n",
      "+---------+---------+----+-------+-----+---------+---------------+--------+--------+\n",
      "only showing top 5 rows\n",
      "\n"
     ]
    }
   ],
   "source": [
    "# creating new df to analyze delayed flights by airline, orgin city, and month/year\n",
    "drop_cols = (\"DestCityName\", \"DayOfMonth\", \"DepTime\", \"ArrTime\", \"ActualElapsedTime\")\n",
    "delayDF = combinedFlightsDF.drop(*drop_cols)\n",
    "delayDF.show(5)"
   ]
  },
  {
   "cell_type": "code",
   "execution_count": null,
   "metadata": {},
   "outputs": [],
   "source": [
    "delayDF.columns"
   ]
  },
  {
   "cell_type": "code",
   "execution_count": 84,
   "metadata": {},
   "outputs": [
    {
     "name": "stdout",
     "output_type": "stream",
     "text": [
      "+---------+---------+----+-------+-----+---------+---------------+--------+--------+---------+\n",
      "|  Airline|Cancelled|Year|Quarter|Month|DayOfWeek| OriginCityName|DepDel15|ArrDel15|ifDelayed|\n",
      "+---------+---------+----+-------+-----+---------+---------------+--------+--------+---------+\n",
      "|Envoy Air|    false|2019|      2|    4|        1|Little Rock, AR|     0.0|     0.0|        0|\n",
      "|Envoy Air|    false|2019|      2|    4|        2|Little Rock, AR|     0.0|     0.0|        0|\n",
      "|Envoy Air|    false|2019|      2|    4|        3|Little Rock, AR|     0.0|     0.0|        0|\n",
      "|Envoy Air|    false|2019|      2|    4|        4|Little Rock, AR|     1.0|     1.0|        1|\n",
      "|Envoy Air|    false|2019|      2|    4|        5|Little Rock, AR|     0.0|     0.0|        0|\n",
      "|Envoy Air|    false|2019|      2|    4|        6|Little Rock, AR|     1.0|     1.0|        1|\n",
      "|Envoy Air|    false|2019|      2|    4|        7|Little Rock, AR|     0.0|     0.0|        0|\n",
      "|Envoy Air|    false|2019|      2|    4|        1|Little Rock, AR|     0.0|     0.0|        0|\n",
      "|Envoy Air|    false|2019|      2|    4|        2|Little Rock, AR|     0.0|     0.0|        0|\n",
      "|Envoy Air|    false|2019|      2|    4|        3|Little Rock, AR|     0.0|     0.0|        0|\n",
      "+---------+---------+----+-------+-----+---------+---------------+--------+--------+---------+\n",
      "only showing top 10 rows\n",
      "\n"
     ]
    }
   ],
   "source": [
    "# uses bitwise or operator to find overall delayed flights\n",
    "delayDF = delayDF.withColumn(\"ifDelayed\", func.when((delayDF.ArrDel15 > 0) | (delayDF.DepDel15 > 0), 1).otherwise(0))\n",
    "delayDF.show(10)"
   ]
  },
  {
   "cell_type": "code",
   "execution_count": 85,
   "metadata": {},
   "outputs": [
    {
     "name": "stderr",
     "output_type": "stream",
     "text": [
      "[Stage 132:=====================================================> (75 + 2) / 77]\r"
     ]
    },
    {
     "name": "stdout",
     "output_type": "stream",
     "text": [
      "+-----------------------------------------+-------------------+\n",
      "|Airline                                  |sumDelayedByAirline|\n",
      "+-----------------------------------------+-------------------+\n",
      "|Endeavor Air Inc.                        |147359             |\n",
      "|United Air Lines Inc.                    |510700             |\n",
      "|Compass Airlines                         |31705              |\n",
      "|Comair Inc.                              |188171             |\n",
      "|Southwest Airlines Co.                   |1269581            |\n",
      "|ExpressJet Airlines Inc.                 |79802              |\n",
      "|JetBlue Airways                          |325465             |\n",
      "|Empire Airlines Inc.                     |3665               |\n",
      "|Envoy Air                                |205502             |\n",
      "|Capital Cargo International              |68581              |\n",
      "|Hawaiian Airlines Inc.                   |39344              |\n",
      "|Mesa Airlines Inc.                       |155645             |\n",
      "|American Airlines Inc.                   |678132             |\n",
      "|Republic Airlines                        |232202             |\n",
      "|Spirit Air Lines                         |185300             |\n",
      "|GoJet Airlines, LLC d/b/a United Express |59751              |\n",
      "|Allegiant Air                            |127351             |\n",
      "|SkyWest Airlines Inc.                    |579040             |\n",
      "|Horizon Air                              |73990              |\n",
      "|Air Wisconsin Airlines Corp              |73902              |\n",
      "|Trans States Airlines                    |43557              |\n",
      "|Peninsula Airways Inc.                   |1029               |\n",
      "|Frontier Airlines Inc.                   |160522             |\n",
      "|Commutair Aka Champlain Enterprises, Inc.|71820              |\n",
      "|Alaska Airlines Inc.                     |178222             |\n",
      "|Delta Air Lines Inc.                     |531592             |\n",
      "|Virgin America                           |4121               |\n",
      "|Cape Air                                 |165                |\n",
      "+-----------------------------------------+-------------------+\n",
      "\n"
     ]
    },
    {
     "name": "stderr",
     "output_type": "stream",
     "text": [
      "                                                                                \r"
     ]
    }
   ],
   "source": [
    "# groups delayed flights by airline\n",
    "numDelayedByAirline = delayDF.groupBy(\"Airline\").agg({\"ifDelayed\" : \"sum\"})\n",
    "numDelayedByAirline = numDelayedByAirline.withColumnRenamed(\"sum(ifDelayed)\", \"sumDelayedByAirline\")\n",
    "numDelayedByAirline.show(30,truncate=False)\n",
    "\n",
    "# to check if delayed flight per airline add up to original amount\n",
    "# sumdf = numDelayed.agg({\"sum(ifDelayed)\" : \"sum\"})\n",
    "# sumdf.show()"
   ]
  },
  {
   "cell_type": "code",
   "execution_count": 86,
   "metadata": {},
   "outputs": [],
   "source": [
    "#total flights for each of the 28 airlines\n",
    "airlineRank = combinedFlightsDF.groupBy(\"Airline\").count() #28 airlines\n",
    "airlineRank = airlineRank.withColumnRenamed(\"count\", \"totalFlightsByAirline\")"
   ]
  },
  {
   "cell_type": "code",
   "execution_count": null,
   "metadata": {},
   "outputs": [],
   "source": [
    "airlineRank.show()"
   ]
  },
  {
   "cell_type": "code",
   "execution_count": 87,
   "metadata": {},
   "outputs": [],
   "source": [
    "#1 add a new column to show ratio of delayed flights for each airline\n",
    "numDelayedByAirline = numDelayedByAirline\\\n",
    "    .join(airlineRank, \"Airline\")\\\n",
    "    .withColumn(\"delayedRatio\", ((func.col(\"SumDelayedByAirline\") / func.col(\"totalFlightsByAirline\")) * 100))\\\n",
    "    .drop(\"count\")"
   ]
  },
  {
   "cell_type": "code",
   "execution_count": 88,
   "metadata": {},
   "outputs": [
    {
     "name": "stderr",
     "output_type": "stream",
     "text": [
      "[Stage 136:====================================================>  (74 + 3) / 77]\r"
     ]
    },
    {
     "name": "stdout",
     "output_type": "stream",
     "text": [
      "+--------------------+-------------------+------------+------------------+\n",
      "|             Airline|sumDelayedByAirline|totalFlights|      delayedRatio|\n",
      "+--------------------+-------------------+------------+------------------+\n",
      "|   Endeavor Air Inc.|             147359|      998233|14.761984426481591|\n",
      "|United Air Lines ...|             510700|     2354538|21.690030061099037|\n",
      "|    Compass Airlines|              31705|      154985| 20.45681840178082|\n",
      "|         Comair Inc.|             188171|      957220|19.658072334468564|\n",
      "|Southwest Airline...|            1269581|     5474339|23.191493986762605|\n",
      "|ExpressJet Airlin...|              79802|      353669|22.564035864042367|\n",
      "|     JetBlue Airways|             325465|     1106079|29.425113396059416|\n",
      "|Empire Airlines Inc.|               3665|       23122|15.850704956318657|\n",
      "|           Envoy Air|             205502|     1072778|19.156060247320507|\n",
      "|Capital Cargo Int...|              68581|      392011|17.494662139582818|\n",
      "+--------------------+-------------------+------------+------------------+\n",
      "only showing top 10 rows\n",
      "\n"
     ]
    },
    {
     "name": "stderr",
     "output_type": "stream",
     "text": [
      "                                                                                \r"
     ]
    }
   ],
   "source": [
    "#1\n",
    "numDelayedByAirline.show(10)"
   ]
  },
  {
   "cell_type": "code",
   "execution_count": 91,
   "metadata": {},
   "outputs": [],
   "source": [
    "#total flights for each of the origin cities\n",
    "cityRank = combinedFlightsDF.groupBy(\"OriginCityName\").count() #28 airlines\n",
    "cityRank = cityRank.withColumnRenamed(\"count\", \"totalFlightsByCity\")"
   ]
  },
  {
   "cell_type": "code",
   "execution_count": 89,
   "metadata": {},
   "outputs": [
    {
     "name": "stderr",
     "output_type": "stream",
     "text": [
      "[Stage 141:=====================================================> (75 + 2) / 77]\r"
     ]
    },
    {
     "name": "stdout",
     "output_type": "stream",
     "text": [
      "+------------------------+----------------+\n",
      "|OriginCityName          |sumDelayedByCity|\n",
      "+------------------------+----------------+\n",
      "|Gainesville, FL         |2847            |\n",
      "|Richmond, VA            |19749           |\n",
      "|Ontario, CA             |15887           |\n",
      "|Pago Pago, TT           |113             |\n",
      "|Tucson, AZ              |11284           |\n",
      "|Myrtle Beach, SC        |10761           |\n",
      "|Medford, OR             |5562            |\n",
      "|Palm Springs, CA        |9311            |\n",
      "|Durango, CO             |3502            |\n",
      "|Corpus Christi, TX      |3734            |\n",
      "|Mobile, AL              |4294            |\n",
      "|Dubuque, IA             |442             |\n",
      "|Pensacola, FL           |8954            |\n",
      "|Huntsville, AL          |6572            |\n",
      "|Fort Myers, FL          |31883           |\n",
      "|Columbus, GA            |894             |\n",
      "|Springfield, IL         |1419            |\n",
      "|San Juan, PR            |27812           |\n",
      "|Montrose/Delta, CO      |2692            |\n",
      "|Lihue, HI               |6384            |\n",
      "|Garden City, KS         |447             |\n",
      "|Harlingen/San Benito, TX|3280            |\n",
      "|Fort Smith, AR          |1198            |\n",
      "|Reno, NV                |15740           |\n",
      "|Santa Rosa, CA          |2625            |\n",
      "|Columbus, OH            |33097           |\n",
      "|Honolulu, HI            |29599           |\n",
      "|Bakersfield, CA         |1561            |\n",
      "|Tyler, TX               |942             |\n",
      "|Burlington, VT          |7822            |\n",
      "+------------------------+----------------+\n",
      "only showing top 30 rows\n",
      "\n"
     ]
    },
    {
     "name": "stderr",
     "output_type": "stream",
     "text": [
      "                                                                                \r"
     ]
    }
   ],
   "source": [
    "# groups delayed flights by city\n",
    "numDelayedByCity = delayDF.groupBy(\"OriginCityName\").agg({\"ifDelayed\" : \"sum\"})\n",
    "numDelayedByCity = numDelayedByCity.withColumnRenamed(\"sum(ifDelayed)\", \"sumDelayedByCity\")\n",
    "numDelayedByCity.show(30,truncate=False)"
   ]
  },
  {
   "cell_type": "code",
   "execution_count": 93,
   "metadata": {},
   "outputs": [],
   "source": [
    "#2 add a new column to show ratio of delayed flights for each airline\n",
    "numDelayedByCity = numDelayedByCity\\\n",
    "    .join(cityRank, \"OriginCityName\")\\\n",
    "    .withColumn(\"delayedRatio\", ((func.col(\"SumDelayedByCity\") / func.col(\"totalFlightsByCity\")) * 100))\\\n",
    "    .drop(\"count\")"
   ]
  },
  {
   "cell_type": "code",
   "execution_count": 94,
   "metadata": {},
   "outputs": [
    {
     "name": "stderr",
     "output_type": "stream",
     "text": [
      "[Stage 145:===================================================>   (72 + 5) / 77]\r"
     ]
    },
    {
     "name": "stdout",
     "output_type": "stream",
     "text": [
      "+------------------+----------------+------------------+------------------+\n",
      "|    OriginCityName|sumDelayedByCity|totalFlightsByCity|      delayedRatio|\n",
      "+------------------+----------------+------------------+------------------+\n",
      "|   Gainesville, FL|            2847|             16524| 17.22948438634713|\n",
      "|      Richmond, VA|           19749|             96878|20.385433225293667|\n",
      "|       Ontario, CA|           15887|             91776|17.310625871687588|\n",
      "|     Pago Pago, TT|             113|               299| 37.79264214046823|\n",
      "|        Tucson, AZ|           11284|             70842|15.928404054092205|\n",
      "|  Myrtle Beach, SC|           10761|             56044|19.200984940403966|\n",
      "|       Medford, OR|            5562|             34750| 16.00575539568345|\n",
      "|  Palm Springs, CA|            9311|             52409|17.766032551660974|\n",
      "|       Durango, CO|            3502|             16636|21.050733349362826|\n",
      "|Corpus Christi, TX|            3734|             22140|16.865401987353206|\n",
      "+------------------+----------------+------------------+------------------+\n",
      "only showing top 10 rows\n",
      "\n"
     ]
    },
    {
     "name": "stderr",
     "output_type": "stream",
     "text": [
      "                                                                                \r"
     ]
    }
   ],
   "source": [
    "#2\n",
    "numDelayedByCity.show(10)"
   ]
  },
  {
   "cell_type": "code",
   "execution_count": null,
   "metadata": {},
   "outputs": [],
   "source": [
    "#4 delayed flights\n",
    "delayedFlights = delayDF.groupBy(\"ifDelayed\").count()\n",
    "delayedFlights.show() #1 - Delayed, 0 - Not delayed"
   ]
  },
  {
   "cell_type": "code",
   "execution_count": 67,
   "metadata": {},
   "outputs": [
    {
     "name": "stderr",
     "output_type": "stream",
     "text": [
      "[Stage 105:=====================================================> (75 + 2) / 77]\r"
     ]
    },
    {
     "name": "stdout",
     "output_type": "stream",
     "text": [
      "+---------+--------+\n",
      "|Cancelled|   count|\n",
      "+---------+--------+\n",
      "|     true|  777267|\n",
      "|    false|28416533|\n",
      "+---------+--------+\n",
      "\n"
     ]
    },
    {
     "name": "stderr",
     "output_type": "stream",
     "text": [
      "                                                                                \r"
     ]
    }
   ],
   "source": [
    "#5 cancelled flights\n",
    "cancelledFlights = combinedFlightsDF.groupBy(\"Cancelled\").count()\n",
    "cancelledFlights.show()"
   ]
  }
 ],
 "metadata": {
  "kernelspec": {
   "display_name": "Python 3.9.7 ('base')",
   "language": "python",
   "name": "python3"
  },
  "language_info": {
   "codemirror_mode": {
    "name": "ipython",
    "version": 3
   },
   "file_extension": ".py",
   "mimetype": "text/x-python",
   "name": "python",
   "nbconvert_exporter": "python",
   "pygments_lexer": "ipython3",
   "version": "3.9.7"
  },
  "orig_nbformat": 4,
  "vscode": {
   "interpreter": {
    "hash": "d1943d34fd5fa7f15701143ece1921e013240ae3b26bb534409e23209b0a7faf"
   }
  }
 },
 "nbformat": 4,
 "nbformat_minor": 2
}

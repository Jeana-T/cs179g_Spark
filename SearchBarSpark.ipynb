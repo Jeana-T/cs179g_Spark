{
 "cells": [
  {
   "cell_type": "code",
   "execution_count": 81,
   "metadata": {},
   "outputs": [],
   "source": [
    "import pyspark\n",
    "import pandas as pd\n",
    "import numpy as np\n",
    "import matplotlib.pyplot as plt\n",
    "from pyspark.sql import functions as func\n",
    "from pyspark.sql.types import StringType,FloatType\n",
    "import nltk\n",
    "from pyspark.sql import SparkSession\n"
   ]
  },
  {
   "cell_type": "code",
   "execution_count": 14,
   "metadata": {},
   "outputs": [
    {
     "name": "stderr",
     "output_type": "stream",
     "text": [
      "                                                                                \r"
     ]
    }
   ],
   "source": [
    "# reading in flight data csv\n",
    "spark = SparkSession.builder.master('local[*]').appName('FlightAnalysis').getOrCreate()\n",
    "combinedFlightsDF = spark.read.options(header = True, inferSchema = True).csv(\"FlightData\")"
   ]
  },
  {
   "cell_type": "code",
   "execution_count": 15,
   "metadata": {},
   "outputs": [],
   "source": [
    "# drops unnecessary columns\n",
    "drop_cols = (\"FlightDate\",\"Origin\",\"Dest\",\"Diverted\",\"DepDelayMinutes\",\"ArrDelayMinutes\",\"IATA_Code_Operating_Airline\",\"DestAirportSeqID\",\"DestCityMarketID\",\"DOT_ID_Operating_Airline\",\"DOT_ID_Marketing_Airline\",\"IATA_Code_Marketing_Airline\",\"Operated_or_Branded_Code_Share_Partners\",\"Cancelled\",\"CRSDepTime\",\"DepDelay\",\"AirTime\",\"CRSElapsedTime\", \"Distance\", \"Quarter\", \"DayOfWeek\", \"Marketing_Airline_Network\", \"Flight_Number_Marketing_Airline\", \"Operating_Airline\", \"Tail_Number\", \"Flight_Number_Operating_Airline\", \"OriginAirportID\",  \"OriginAirportSeqID\", \"OriginCityMarketID\",  \"OriginState\",  \"OriginStateFips\",  \"OriginStateName\", \"OriginWac\", \"DestAirportID\", \"DestState\", \"DestStateFips\", \"DestStateName\", \"DestWac\", \"DepartureDelayGroups\", \"DepTimeBlk\", \"TaxiOut\", \"WheelsOff\", \"WheelsOn\", \"TaxiIn\", \"CRSArrTime\", \"ArrDelay\", \"ArrivalDelayGroups\", \"ArrTimeBlk\", \"DistanceGroup\", \"DivAirportLandings\")\n",
    "combinedFlightsDF = combinedFlightsDF.drop(*drop_cols)"
   ]
  },
  {
   "cell_type": "code",
   "execution_count": 16,
   "metadata": {},
   "outputs": [
    {
     "name": "stdout",
     "output_type": "stream",
     "text": [
      "+---------+-------+-------+-----------------+----+-----+----------+---------------+------------+--------+--------+\n",
      "|  Airline|DepTime|ArrTime|ActualElapsedTime|Year|Month|DayofMonth| OriginCityName|DestCityName|DepDel15|ArrDel15|\n",
      "+---------+-------+-------+-----------------+----+-----+----------+---------------+------------+--------+--------+\n",
      "|Envoy Air| 1209.0| 1350.0|            101.0|2019|    4|         1|Little Rock, AR| Chicago, IL|     0.0|     0.0|\n",
      "|Envoy Air| 1200.0| 1348.0|            108.0|2019|    4|         2|Little Rock, AR| Chicago, IL|     0.0|     0.0|\n",
      "|Envoy Air| 1203.0| 1342.0|             99.0|2019|    4|         3|Little Rock, AR| Chicago, IL|     0.0|     0.0|\n",
      "|Envoy Air| 1435.0| 1621.0|            106.0|2019|    4|         4|Little Rock, AR| Chicago, IL|     1.0|     1.0|\n",
      "|Envoy Air| 1216.0| 1410.0|            114.0|2019|    4|         5|Little Rock, AR| Chicago, IL|     0.0|     0.0|\n",
      "+---------+-------+-------+-----------------+----+-----+----------+---------------+------------+--------+--------+\n",
      "only showing top 5 rows\n",
      "\n"
     ]
    }
   ],
   "source": [
    "combinedFlightsDF.show(5)"
   ]
  },
  {
   "cell_type": "code",
   "execution_count": 5,
   "metadata": {},
   "outputs": [
    {
     "name": "stderr",
     "output_type": "stream",
     "text": [
      "                                                                                \r"
     ]
    }
   ],
   "source": [
    "#Creates csv with specified data (dont run)\n",
    "combinedFlightsDF.write.option(\"header\",True).csv(\"combinedFlightsSearchBar\")"
   ]
  },
  {
   "cell_type": "code",
   "execution_count": 17,
   "metadata": {},
   "outputs": [
    {
     "name": "stderr",
     "output_type": "stream",
     "text": [
      "[Stage 30:======================================================> (75 + 2) / 77]\r"
     ]
    },
    {
     "name": "stdout",
     "output_type": "stream",
     "text": [
      "+----+-------+\n",
      "|Year|  count|\n",
      "+----+-------+\n",
      "|2019|8091684|\n",
      "|2018|5689512|\n",
      "|2022|4078318|\n",
      "|2020|5022397|\n",
      "|2021|6311871|\n",
      "+----+-------+\n",
      "\n"
     ]
    },
    {
     "name": "stderr",
     "output_type": "stream",
     "text": [
      "                                                                                \r"
     ]
    }
   ],
   "source": [
    "# groups flights by year\n",
    "yearCount = combinedFlightsDF.groupBy(\"Year\").count()\n",
    "yearCount.show()"
   ]
  },
  {
   "cell_type": "code",
   "execution_count": 86,
   "metadata": {},
   "outputs": [
    {
     "name": "stderr",
     "output_type": "stream",
     "text": [
      "                                                                                \r"
     ]
    }
   ],
   "source": [
    "#28 total airlines (listed in discord)\n",
    "airlineRank = combinedFlightsDF.groupBy(\"Airline\").count()"
   ]
  },
  {
   "cell_type": "code",
   "execution_count": 87,
   "metadata": {},
   "outputs": [
    {
     "name": "stderr",
     "output_type": "stream",
     "text": [
      "[Stage 112:=======================================================(77 + 0) / 77]\r"
     ]
    },
    {
     "name": "stdout",
     "output_type": "stream",
     "text": [
      "+-----------------------------------------+-------+\n",
      "|Airline                                  |count  |\n",
      "+-----------------------------------------+-------+\n",
      "|Endeavor Air Inc.                        |998224 |\n",
      "|United Air Lines Inc.                    |2354538|\n",
      "|Compass Airlines                         |154985 |\n",
      "|Comair Inc.                              |957220 |\n",
      "|Southwest Airlines Co.                   |5474339|\n",
      "|ExpressJet Airlines Inc.                 |353669 |\n",
      "|JetBlue Airways                          |1106079|\n",
      "|Empire Airlines Inc.                     |23122  |\n",
      "|Envoy Air                                |1072778|\n",
      "|Capital Cargo International              |392011 |\n",
      "|Hawaiian Airlines Inc.                   |310782 |\n",
      "|Mesa Airlines Inc.                       |749216 |\n",
      "|American Airlines Inc.                   |3134117|\n",
      "|Republic Airlines                        |1283704|\n",
      "|Spirit Air Lines                         |836694 |\n",
      "|GoJet Airlines, LLC d/b/a United Express |276486 |\n",
      "|Allegiant Air                            |489400 |\n",
      "|SkyWest Airlines Inc.                    |3159683|\n",
      "|Horizon Air                              |471153 |\n",
      "|Air Wisconsin Airlines Corp              |380202 |\n",
      "|Trans States Airlines                    |161590 |\n",
      "|Peninsula Airways Inc.                   |2783   |\n",
      "|Frontier Airlines Inc.                   |570452 |\n",
      "|Commutair Aka Champlain Enterprises, Inc.|260048 |\n",
      "|Alaska Airlines Inc.                     |906259 |\n",
      "|Delta Air Lines Inc.                     |3294917|\n",
      "|Virgin America                           |17670  |\n",
      "|Cape Air                                 |1661   |\n",
      "+-----------------------------------------+-------+\n",
      "\n"
     ]
    },
    {
     "name": "stderr",
     "output_type": "stream",
     "text": [
      "                                                                                \r"
     ]
    }
   ],
   "source": [
    "#total flights for each of the 28 airlines\n",
    "airlineRank.show(30,truncate=False)"
   ]
  },
  {
   "cell_type": "code",
   "execution_count": 18,
   "metadata": {},
   "outputs": [
    {
     "name": "stdout",
     "output_type": "stream",
     "text": [
      "+---------+----+-----+--------+--------+\n",
      "|  Airline|Year|Month|DepDel15|ArrDel15|\n",
      "+---------+----+-----+--------+--------+\n",
      "|Envoy Air|2019|    4|     0.0|     0.0|\n",
      "|Envoy Air|2019|    4|     0.0|     0.0|\n",
      "|Envoy Air|2019|    4|     0.0|     0.0|\n",
      "|Envoy Air|2019|    4|     1.0|     1.0|\n",
      "|Envoy Air|2019|    4|     0.0|     0.0|\n",
      "+---------+----+-----+--------+--------+\n",
      "only showing top 5 rows\n",
      "\n"
     ]
    }
   ],
   "source": [
    "# creating new df to analyze delayed flights by airline and month/year\n",
    "drop_cols = (\"OriginCityName\", \"DestCityName\", \"DayOfMonth\", \"DepTime\", \"ArrTime\", \"ActualElapsedTime\")\n",
    "mostDelayAirline = combinedFlightsDF.drop(*drop_cols)\n",
    "mostDelayAirline.show(5)"
   ]
  },
  {
   "cell_type": "code",
   "execution_count": 20,
   "metadata": {},
   "outputs": [
    {
     "data": {
      "text/plain": [
       "['Airline', 'Year', 'Month', 'DepDel15', 'ArrDel15']"
      ]
     },
     "execution_count": 20,
     "metadata": {},
     "output_type": "execute_result"
    }
   ],
   "source": [
    "mostDelayAirline.columns"
   ]
  },
  {
   "cell_type": "code",
   "execution_count": 45,
   "metadata": {},
   "outputs": [
    {
     "name": "stdout",
     "output_type": "stream",
     "text": [
      "+---------+----+-----+--------+--------+---------+\n",
      "|  Airline|Year|Month|DepDel15|ArrDel15|ifDelayed|\n",
      "+---------+----+-----+--------+--------+---------+\n",
      "|Envoy Air|2019|    4|     0.0|     0.0|        0|\n",
      "|Envoy Air|2019|    4|     0.0|     0.0|        0|\n",
      "|Envoy Air|2019|    4|     0.0|     0.0|        0|\n",
      "|Envoy Air|2019|    4|     1.0|     1.0|        1|\n",
      "|Envoy Air|2019|    4|     0.0|     0.0|        0|\n",
      "|Envoy Air|2019|    4|     1.0|     1.0|        1|\n",
      "|Envoy Air|2019|    4|     0.0|     0.0|        0|\n",
      "|Envoy Air|2019|    4|     0.0|     0.0|        0|\n",
      "|Envoy Air|2019|    4|     0.0|     0.0|        0|\n",
      "|Envoy Air|2019|    4|     0.0|     0.0|        0|\n",
      "+---------+----+-----+--------+--------+---------+\n",
      "only showing top 10 rows\n",
      "\n"
     ]
    }
   ],
   "source": [
    "# uses bitwise or operator to find overall delayed flights\n",
    "mostDelayAirline = mostDelayAirline.withColumn(\"ifDelayed\", func.when((mostDelayAirline.ArrDel15 > 0) | (mostDelayAirline.DepDel15 > 0), 1).otherwise(0))\n",
    "mostDelayAirline.show(10)"
   ]
  },
  {
   "cell_type": "code",
   "execution_count": 71,
   "metadata": {},
   "outputs": [
    {
     "name": "stderr",
     "output_type": "stream",
     "text": [
      "[Stage 103:====================================================>  (74 + 3) / 77]\r"
     ]
    },
    {
     "name": "stdout",
     "output_type": "stream",
     "text": [
      "+-----------------------------------------+----------+\n",
      "|Airline                                  |sumDelayed|\n",
      "+-----------------------------------------+----------+\n",
      "|Endeavor Air Inc.                        |147358    |\n",
      "|United Air Lines Inc.                    |510700    |\n",
      "|Compass Airlines                         |31705     |\n",
      "|Comair Inc.                              |188171    |\n",
      "|Southwest Airlines Co.                   |1269581   |\n",
      "|ExpressJet Airlines Inc.                 |79802     |\n",
      "|JetBlue Airways                          |325465    |\n",
      "|Empire Airlines Inc.                     |3665      |\n",
      "|Envoy Air                                |205502    |\n",
      "|Capital Cargo International              |68581     |\n",
      "|Hawaiian Airlines Inc.                   |39344     |\n",
      "|Mesa Airlines Inc.                       |155645    |\n",
      "|American Airlines Inc.                   |678132    |\n",
      "|Republic Airlines                        |232202    |\n",
      "|Spirit Air Lines                         |185300    |\n",
      "|GoJet Airlines, LLC d/b/a United Express |59751     |\n",
      "|Allegiant Air                            |127351    |\n",
      "|SkyWest Airlines Inc.                    |579040    |\n",
      "|Horizon Air                              |73990     |\n",
      "|Air Wisconsin Airlines Corp              |73902     |\n",
      "|Trans States Airlines                    |43557     |\n",
      "|Peninsula Airways Inc.                   |1029      |\n",
      "|Frontier Airlines Inc.                   |160522    |\n",
      "|Commutair Aka Champlain Enterprises, Inc.|71820     |\n",
      "|Alaska Airlines Inc.                     |178222    |\n",
      "|Delta Air Lines Inc.                     |531592    |\n",
      "|Virgin America                           |4121      |\n",
      "|Cape Air                                 |165       |\n",
      "+-----------------------------------------+----------+\n",
      "\n"
     ]
    },
    {
     "name": "stderr",
     "output_type": "stream",
     "text": [
      "                                                                                \r"
     ]
    }
   ],
   "source": [
    "# groups delayed flights by airline\n",
    "numDelayed = mostDelayAirline.groupBy(\"Airline\").agg({\"ifDelayed\" : \"sum\"})\n",
    "numDelayed = numDelayed.withColumnRenamed(\"sum(ifDelayed)\", \"sumDelayed\")\n",
    "numDelayed.show(30,truncate=False)\n",
    "\n",
    "# to check if delayed flight per airline add up to original amount\n",
    "# sumdf = numDelayed.agg({\"sum(ifDelayed)\" : \"sum\"})\n",
    "# sumdf.show()"
   ]
  },
  {
   "cell_type": "code",
   "execution_count": 100,
   "metadata": {},
   "outputs": [
    {
     "ename": "AttributeError",
     "evalue": "'DataFrame' object has no attribute 'col'",
     "output_type": "error",
     "traceback": [
      "\u001b[0;31m---------------------------------------------------------------------------\u001b[0m",
      "\u001b[0;31mAttributeError\u001b[0m                            Traceback (most recent call last)",
      "\u001b[0;32m/var/folders/gr/b4rz7sp14q557vjzr6h3bqm00000gn/T/ipykernel_36036/479510559.py\u001b[0m in \u001b[0;36m<module>\u001b[0;34m\u001b[0m\n\u001b[1;32m      1\u001b[0m \u001b[0;31m# add a new column to show ratio of delayed flights for each airline\u001b[0m\u001b[0;34m\u001b[0m\u001b[0;34m\u001b[0m\u001b[0m\n\u001b[1;32m      2\u001b[0m \u001b[0;31m#delayedRatioVar = numDelayed.col(\"sumDelayed\") / airlineRank.col(\"count\")\u001b[0m\u001b[0;34m\u001b[0m\u001b[0;34m\u001b[0m\u001b[0m\n\u001b[0;32m----> 3\u001b[0;31m \u001b[0mnumDelayed\u001b[0m \u001b[0;34m=\u001b[0m \u001b[0mnumDelayed\u001b[0m\u001b[0;34m.\u001b[0m\u001b[0mwithColumn\u001b[0m\u001b[0;34m(\u001b[0m\u001b[0;34m\"delayedRatio\"\u001b[0m\u001b[0;34m,\u001b[0m \u001b[0mnumDelayed\u001b[0m\u001b[0;34m.\u001b[0m\u001b[0mcol\u001b[0m\u001b[0;34m(\u001b[0m\u001b[0;34m\"sumDelayed\"\u001b[0m\u001b[0;34m)\u001b[0m \u001b[0;34m/\u001b[0m \u001b[0mairlineRank\u001b[0m\u001b[0;34m.\u001b[0m\u001b[0mcol\u001b[0m\u001b[0;34m(\u001b[0m\u001b[0;34m\"count\"\u001b[0m\u001b[0;34m)\u001b[0m\u001b[0;34m)\u001b[0m\u001b[0;34m\u001b[0m\u001b[0;34m\u001b[0m\u001b[0m\n\u001b[0m\u001b[1;32m      4\u001b[0m \u001b[0mnumDelayed\u001b[0m\u001b[0;34m.\u001b[0m\u001b[0mshow\u001b[0m\u001b[0;34m(\u001b[0m\u001b[0;36m10\u001b[0m\u001b[0;34m)\u001b[0m\u001b[0;34m\u001b[0m\u001b[0;34m\u001b[0m\u001b[0m\n",
      "\u001b[0;32m~/opt/anaconda3/lib/python3.9/site-packages/pyspark/sql/dataframe.py\u001b[0m in \u001b[0;36m__getattr__\u001b[0;34m(self, name)\u001b[0m\n\u001b[1;32m   1986\u001b[0m         \"\"\"\n\u001b[1;32m   1987\u001b[0m         \u001b[0;32mif\u001b[0m \u001b[0mname\u001b[0m \u001b[0;32mnot\u001b[0m \u001b[0;32min\u001b[0m \u001b[0mself\u001b[0m\u001b[0;34m.\u001b[0m\u001b[0mcolumns\u001b[0m\u001b[0;34m:\u001b[0m\u001b[0;34m\u001b[0m\u001b[0;34m\u001b[0m\u001b[0m\n\u001b[0;32m-> 1988\u001b[0;31m             raise AttributeError(\n\u001b[0m\u001b[1;32m   1989\u001b[0m                 \u001b[0;34m\"'%s' object has no attribute '%s'\"\u001b[0m \u001b[0;34m%\u001b[0m \u001b[0;34m(\u001b[0m\u001b[0mself\u001b[0m\u001b[0;34m.\u001b[0m\u001b[0m__class__\u001b[0m\u001b[0;34m.\u001b[0m\u001b[0m__name__\u001b[0m\u001b[0;34m,\u001b[0m \u001b[0mname\u001b[0m\u001b[0;34m)\u001b[0m\u001b[0;34m\u001b[0m\u001b[0;34m\u001b[0m\u001b[0m\n\u001b[1;32m   1990\u001b[0m             )\n",
      "\u001b[0;31mAttributeError\u001b[0m: 'DataFrame' object has no attribute 'col'"
     ]
    }
   ],
   "source": [
    "# add a new column to show ratio of delayed flights for each airline\n",
    "numDelayed = numDelayed\\\n",
    "    .join(airlineRank, \"Airline\")\\\n",
    "    .withColumn(\"delayedRatio\", ((func.col(\"sumDelayed\") / func.col(\"count\")) * 100))\\\n",
    "    .drop(\"count\")"
   ]
  },
  {
   "cell_type": "code",
   "execution_count": null,
   "metadata": {},
   "outputs": [],
   "source": [
    "numDelayed.show(10)"
   ]
  }
 ],
 "metadata": {
  "kernelspec": {
   "display_name": "Python 3.9.7 ('base')",
   "language": "python",
   "name": "python3"
  },
  "language_info": {
   "codemirror_mode": {
    "name": "ipython",
    "version": 3
   },
   "file_extension": ".py",
   "mimetype": "text/x-python",
   "name": "python",
   "nbconvert_exporter": "python",
   "pygments_lexer": "ipython3",
   "version": "3.9.7"
  },
  "orig_nbformat": 4,
  "vscode": {
   "interpreter": {
    "hash": "d1943d34fd5fa7f15701143ece1921e013240ae3b26bb534409e23209b0a7faf"
   }
  }
 },
 "nbformat": 4,
 "nbformat_minor": 2
}

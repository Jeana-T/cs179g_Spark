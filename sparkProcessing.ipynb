{
 "cells": [
  {
   "cell_type": "code",
   "execution_count": 20,
   "metadata": {},
   "outputs": [],
   "source": [
    "import pyspark\n",
    "import pandas as pd\n",
    "import numpy as np\n",
    "import matplotlib.pyplot as plt\n",
    "from pyspark.sql import functions as func\n",
    "from pyspark.sql.types import StringType,FloatType\n",
    "import nltk\n",
    "from pyspark.sql import SparkSession\n"
   ]
  },
  {
   "cell_type": "code",
   "execution_count": 22,
   "metadata": {},
   "outputs": [
    {
     "name": "stderr",
     "output_type": "stream",
     "text": [
      "                                                                                \r"
     ]
    }
   ],
   "source": [
    "# reading in flight data csv\n",
    "spark = SparkSession.builder.master('local[*]').appName('FlightAnalysis').getOrCreate()\n",
    "combinedFlightsDF = spark.read.options(header = True, inferSchema = True).csv(\"Combined_Flights_2022.csv\")"
   ]
  },
  {
   "cell_type": "code",
   "execution_count": 23,
   "metadata": {},
   "outputs": [],
   "source": [
    "# drops unnecessary columns\n",
    "drop_cols = (\"FlightDate\",\"Origin\",\"Dest\",\"Diverted\",\"DepDelayMinutes\",\"ArrDelayMinutes\",\"IATA_Code_Operating_Airline\",\"DestAirportSeqID\",\"DestCityMarketID\",\"DOT_ID_Operating_Airline\",\"DOT_ID_Marketing_Airline\",\"IATA_Code_Marketing_Airline\",\"Operated_or_Branded_Code_Share_Partners\",\"CRSDepTime\",\"DepDelay\",\"AirTime\",\"CRSElapsedTime\", \"Distance\", \"Marketing_Airline_Network\", \"Flight_Number_Marketing_Airline\", \"Operating_Airline\", \"Tail_Number\", \"Flight_Number_Operating_Airline\", \"OriginAirportID\",  \"OriginAirportSeqID\", \"OriginCityMarketID\",  \"OriginState\",  \"OriginStateFips\", \"OriginWac\", \"DestAirportID\", \"DestState\", \"DestStateFips\", \"DestStateName\", \"DestWac\", \"DepartureDelayGroups\", \"DepTimeBlk\", \"TaxiOut\", \"WheelsOff\", \"WheelsOn\", \"TaxiIn\", \"CRSArrTime\", \"ArrDelay\", \"ArrivalDelayGroups\", \"ArrTimeBlk\", \"DistanceGroup\", \"DivAirportLandings\")\n",
    "combinedFlightsDF = combinedFlightsDF.drop(*drop_cols)"
   ]
  },
  {
   "cell_type": "code",
   "execution_count": 70,
   "metadata": {},
   "outputs": [
    {
     "name": "stdout",
     "output_type": "stream",
     "text": [
      "+---------+---------+-------+-------+-----------------+----+-------+-----+----------+---------+---------------+---------------+------------+--------+--------+\n",
      "|  Airline|Cancelled|DepTime|ArrTime|ActualElapsedTime|Year|Quarter|Month|DayofMonth|DayOfWeek| OriginCityName|OriginStateName|DestCityName|DepDel15|ArrDel15|\n",
      "+---------+---------+-------+-------+-----------------+----+-------+-----+----------+---------+---------------+---------------+------------+--------+--------+\n",
      "|Envoy Air|    false| 1209.0| 1350.0|            101.0|2019|      2|    4|         1|        1|Little Rock, AR|       Arkansas| Chicago, IL|     0.0|     0.0|\n",
      "|Envoy Air|    false| 1200.0| 1348.0|            108.0|2019|      2|    4|         2|        2|Little Rock, AR|       Arkansas| Chicago, IL|     0.0|     0.0|\n",
      "|Envoy Air|    false| 1203.0| 1342.0|             99.0|2019|      2|    4|         3|        3|Little Rock, AR|       Arkansas| Chicago, IL|     0.0|     0.0|\n",
      "|Envoy Air|    false| 1435.0| 1621.0|            106.0|2019|      2|    4|         4|        4|Little Rock, AR|       Arkansas| Chicago, IL|     1.0|     1.0|\n",
      "|Envoy Air|    false| 1216.0| 1410.0|            114.0|2019|      2|    4|         5|        5|Little Rock, AR|       Arkansas| Chicago, IL|     0.0|     0.0|\n",
      "+---------+---------+-------+-------+-----------------+----+-------+-----+----------+---------+---------------+---------------+------------+--------+--------+\n",
      "only showing top 5 rows\n",
      "\n"
     ]
    }
   ],
   "source": [
    "combinedFlightsDF.show(5)"
   ]
  },
  {
   "cell_type": "code",
   "execution_count": 24,
   "metadata": {},
   "outputs": [],
   "source": [
    "searchBarDropCols = (\"Cancelled\",\"Quarter\",\"DayOfWeek\")\n",
    "searchBarDF = combinedFlightsDF.drop(*searchBarDropCols)"
   ]
  },
  {
   "cell_type": "code",
   "execution_count": 6,
   "metadata": {},
   "outputs": [
    {
     "name": "stdout",
     "output_type": "stream",
     "text": [
      "+---------+-------+-------+-----------------+----+-----+----------+---------------+------------+--------+--------+\n",
      "|  Airline|DepTime|ArrTime|ActualElapsedTime|Year|Month|DayofMonth| OriginCityName|DestCityName|DepDel15|ArrDel15|\n",
      "+---------+-------+-------+-----------------+----+-----+----------+---------------+------------+--------+--------+\n",
      "|Envoy Air| 1209.0| 1350.0|            101.0|2019|    4|         1|Little Rock, AR| Chicago, IL|     0.0|     0.0|\n",
      "|Envoy Air| 1200.0| 1348.0|            108.0|2019|    4|         2|Little Rock, AR| Chicago, IL|     0.0|     0.0|\n",
      "|Envoy Air| 1203.0| 1342.0|             99.0|2019|    4|         3|Little Rock, AR| Chicago, IL|     0.0|     0.0|\n",
      "|Envoy Air| 1435.0| 1621.0|            106.0|2019|    4|         4|Little Rock, AR| Chicago, IL|     1.0|     1.0|\n",
      "|Envoy Air| 1216.0| 1410.0|            114.0|2019|    4|         5|Little Rock, AR| Chicago, IL|     0.0|     0.0|\n",
      "+---------+-------+-------+-----------------+----+-----+----------+---------------+------------+--------+--------+\n",
      "only showing top 5 rows\n",
      "\n"
     ]
    }
   ],
   "source": [
    "searchBarDF.show(5)"
   ]
  },
  {
   "cell_type": "code",
   "execution_count": 25,
   "metadata": {},
   "outputs": [
    {
     "name": "stderr",
     "output_type": "stream",
     "text": [
      "                                                                                \r"
     ]
    }
   ],
   "source": [
    "#Creates csv with specified data (DONT RUN UNLESS NEEDED)\n",
    "combinedFlightsDF.write.option(\"header\",True).csv(\"2022FlightsSearchBar\")"
   ]
  },
  {
   "cell_type": "code",
   "execution_count": 82,
   "metadata": {},
   "outputs": [
    {
     "name": "stderr",
     "output_type": "stream",
     "text": [
      "[Stage 127:====================================================>  (74 + 3) / 77]\r"
     ]
    },
    {
     "name": "stdout",
     "output_type": "stream",
     "text": [
      "+----+-------+\n",
      "|Year|  count|\n",
      "+----+-------+\n",
      "|2019|8091684|\n",
      "|2018|5689521|\n",
      "|2022|4078327|\n",
      "|2020|5022397|\n",
      "|2021|6311871|\n",
      "+----+-------+\n",
      "\n"
     ]
    },
    {
     "name": "stderr",
     "output_type": "stream",
     "text": [
      "                                                                                \r"
     ]
    }
   ],
   "source": [
    "#dont need to run\n",
    "# Find # of flights per year\n",
    "yearCount = combinedFlightsDF.groupBy(\"Year\").count()\n",
    "yearCount.show()"
   ]
  },
  {
   "cell_type": "code",
   "execution_count": 26,
   "metadata": {},
   "outputs": [
    {
     "name": "stdout",
     "output_type": "stream",
     "text": [
      "+--------------------+---------+----+-------+-----+---------+--------------------+---------------+--------+--------+\n",
      "|             Airline|Cancelled|Year|Quarter|Month|DayOfWeek|      OriginCityName|OriginStateName|DepDel15|ArrDel15|\n",
      "+--------------------+---------+----+-------+-----+---------+--------------------+---------------+--------+--------+\n",
      "|Commutair Aka Cha...|    false|2022|      2|    4|        1|  Grand Junction, CO|       Colorado|     0.0|     0.0|\n",
      "|Commutair Aka Cha...|    false|2022|      2|    4|        1|Harlingen/San Ben...|          Texas|     0.0|     0.0|\n",
      "|Commutair Aka Cha...|    false|2022|      2|    4|        1|         Durango, CO|       Colorado|     0.0|     0.0|\n",
      "|Commutair Aka Cha...|    false|2022|      2|    4|        1|         Houston, TX|          Texas|     0.0|     0.0|\n",
      "|Commutair Aka Cha...|    false|2022|      2|    4|        1|         Durango, CO|       Colorado|     0.0|     0.0|\n",
      "+--------------------+---------+----+-------+-----+---------+--------------------+---------------+--------+--------+\n",
      "only showing top 5 rows\n",
      "\n"
     ]
    }
   ],
   "source": [
    "# creating new df to analyze delayed flights by airline, orgin city, and month/year\n",
    "drop_cols = (\"DestCityName\", \"DayOfMonth\", \"DepTime\", \"ArrTime\", \"ActualElapsedTime\")\n",
    "delayDF = combinedFlightsDF.drop(*drop_cols)\n",
    "delayDF.show(5)"
   ]
  },
  {
   "cell_type": "code",
   "execution_count": null,
   "metadata": {},
   "outputs": [],
   "source": [
    "delayDF.columns"
   ]
  },
  {
   "cell_type": "code",
   "execution_count": 27,
   "metadata": {},
   "outputs": [
    {
     "name": "stdout",
     "output_type": "stream",
     "text": [
      "+--------------------+---------+----+-------+-----+---------+--------------------+---------------+--------+--------+---------+\n",
      "|             Airline|Cancelled|Year|Quarter|Month|DayOfWeek|      OriginCityName|OriginStateName|DepDel15|ArrDel15|ifDelayed|\n",
      "+--------------------+---------+----+-------+-----+---------+--------------------+---------------+--------+--------+---------+\n",
      "|Commutair Aka Cha...|    false|2022|      2|    4|        1|  Grand Junction, CO|       Colorado|     0.0|     0.0|        0|\n",
      "|Commutair Aka Cha...|    false|2022|      2|    4|        1|Harlingen/San Ben...|          Texas|     0.0|     0.0|        0|\n",
      "|Commutair Aka Cha...|    false|2022|      2|    4|        1|         Durango, CO|       Colorado|     0.0|     0.0|        0|\n",
      "|Commutair Aka Cha...|    false|2022|      2|    4|        1|         Houston, TX|          Texas|     0.0|     0.0|        0|\n",
      "|Commutair Aka Cha...|    false|2022|      2|    4|        1|         Durango, CO|       Colorado|     0.0|     0.0|        0|\n",
      "|Commutair Aka Cha...|    false|2022|      2|    4|        1|          Denver, CO|       Colorado|     0.0|     0.0|        0|\n",
      "|Commutair Aka Cha...|    false|2022|      2|    4|        1|         Houston, TX|          Texas|     0.0|     0.0|        0|\n",
      "|Commutair Aka Cha...|    false|2022|      2|    4|        1|       Knoxville, TN|      Tennessee|     0.0|     0.0|        0|\n",
      "|Commutair Aka Cha...|    false|2022|      2|    4|        1|         Houston, TX|          Texas|     0.0|     0.0|        0|\n",
      "|Commutair Aka Cha...|    false|2022|      2|    4|        1|         Houston, TX|          Texas|     0.0|     0.0|        0|\n",
      "+--------------------+---------+----+-------+-----+---------+--------------------+---------------+--------+--------+---------+\n",
      "only showing top 10 rows\n",
      "\n"
     ]
    }
   ],
   "source": [
    "# uses bitwise or operator to find overall delayed flights\n",
    "delayDF = delayDF.withColumn(\"ifDelayed\", func.when((delayDF.ArrDel15 > 0) | (delayDF.DepDel15 > 0), 1).otherwise(0))\n",
    "delayDF.show(10)"
   ]
  },
  {
   "cell_type": "code",
   "execution_count": 28,
   "metadata": {},
   "outputs": [
    {
     "name": "stdout",
     "output_type": "stream",
     "text": [
      "+--------------------+---------+----+-------+-----+---------+--------------------+---------------+--------+--------+---------+-----------+\n",
      "|             Airline|Cancelled|Year|Quarter|Month|DayOfWeek|      OriginCityName|OriginStateName|DepDel15|ArrDel15|ifDelayed|ifCancelled|\n",
      "+--------------------+---------+----+-------+-----+---------+--------------------+---------------+--------+--------+---------+-----------+\n",
      "|Commutair Aka Cha...|    false|2022|      2|    4|        1|  Grand Junction, CO|       Colorado|     0.0|     0.0|        0|          0|\n",
      "|Commutair Aka Cha...|    false|2022|      2|    4|        1|Harlingen/San Ben...|          Texas|     0.0|     0.0|        0|          0|\n",
      "|Commutair Aka Cha...|    false|2022|      2|    4|        1|         Durango, CO|       Colorado|     0.0|     0.0|        0|          0|\n",
      "|Commutair Aka Cha...|    false|2022|      2|    4|        1|         Houston, TX|          Texas|     0.0|     0.0|        0|          0|\n",
      "|Commutair Aka Cha...|    false|2022|      2|    4|        1|         Durango, CO|       Colorado|     0.0|     0.0|        0|          0|\n",
      "|Commutair Aka Cha...|    false|2022|      2|    4|        1|          Denver, CO|       Colorado|     0.0|     0.0|        0|          0|\n",
      "|Commutair Aka Cha...|    false|2022|      2|    4|        1|         Houston, TX|          Texas|     0.0|     0.0|        0|          0|\n",
      "|Commutair Aka Cha...|    false|2022|      2|    4|        1|       Knoxville, TN|      Tennessee|     0.0|     0.0|        0|          0|\n",
      "|Commutair Aka Cha...|    false|2022|      2|    4|        1|         Houston, TX|          Texas|     0.0|     0.0|        0|          0|\n",
      "|Commutair Aka Cha...|    false|2022|      2|    4|        1|         Houston, TX|          Texas|     0.0|     0.0|        0|          0|\n",
      "+--------------------+---------+----+-------+-----+---------+--------------------+---------------+--------+--------+---------+-----------+\n",
      "only showing top 10 rows\n",
      "\n"
     ]
    }
   ],
   "source": [
    "#create column making cancelled into bool (integer) value\n",
    "delayDF = delayDF.withColumn('ifCancelled', func.when(delayDF.Cancelled == 'false', 0).otherwise(1))\n",
    "delayDF.show(10)"
   ]
  },
  {
   "cell_type": "code",
   "execution_count": 37,
   "metadata": {},
   "outputs": [
    {
     "name": "stderr",
     "output_type": "stream",
     "text": [
      "[Stage 47:==============================================>          (9 + 2) / 11]\r"
     ]
    },
    {
     "name": "stdout",
     "output_type": "stream",
     "text": [
      "+-----------------------------------------+-----------------------+\n",
      "|Airline                                  |2022sumDelayedByAirline|\n",
      "+-----------------------------------------+-----------------------+\n",
      "|GoJet Airlines, LLC d/b/a United Express |9614                   |\n",
      "|Endeavor Air Inc.                        |25708                  |\n",
      "|Allegiant Air                            |27412                  |\n",
      "|SkyWest Airlines Inc.                    |85982                  |\n",
      "|Air Wisconsin Airlines Corp              |7243                   |\n",
      "|Frontier Airlines Inc.                   |31234                  |\n",
      "|Southwest Airlines Co.                   |230921                 |\n",
      "|JetBlue Airways                          |59127                  |\n",
      "|Commutair Aka Champlain Enterprises, Inc.|9541                   |\n",
      "|Capital Cargo International              |8914                   |\n",
      "|Envoy Air                                |29116                  |\n",
      "|Hawaiian Airlines Inc.                   |8577                   |\n",
      "|Alaska Airlines Inc.                     |29427                  |\n",
      "|Delta Air Lines Inc.                     |108803                 |\n",
      "|Mesa Airlines Inc.                       |15734                  |\n",
      "|American Airlines Inc.                   |127291                 |\n",
      "|Republic Airlines                        |46159                  |\n",
      "|Horizon Air                              |10241                  |\n",
      "|United Air Lines Inc.                    |89962                  |\n",
      "|Comair Inc.                              |32581                  |\n",
      "|Spirit Air Lines                         |38934                  |\n",
      "+-----------------------------------------+-----------------------+\n",
      "\n"
     ]
    },
    {
     "name": "stderr",
     "output_type": "stream",
     "text": [
      "                                                                                \r"
     ]
    }
   ],
   "source": [
    "# groups delayed flights by airline\n",
    "numDelayedByAirline = delayDF.groupBy(\"Airline\").agg({\"ifDelayed\" : \"sum\"})\n",
    "numDelayedByAirline = numDelayedByAirline.withColumnRenamed(\"sum(ifDelayed)\", \"2022sumDelayedByAirline\") #CHANGED\n",
    "numDelayedByAirline.show(30,truncate=False)\n",
    "\n",
    "# to check if delayed flight per airline add up to original amount\n",
    "# sumdf = numDelayed.agg({\"sum(ifDelayed)\" : \"sum\"})\n",
    "# sumdf.show()"
   ]
  },
  {
   "cell_type": "code",
   "execution_count": 34,
   "metadata": {},
   "outputs": [],
   "source": [
    "#total flights for each of the 28 airlines\n",
    "airlineRank = combinedFlightsDF.groupBy(\"Airline\").count() #28 airlines\n",
    "airlineRank = airlineRank.withColumnRenamed(\"count\", \"2022flightCountByAirline\") #CHANGED"
   ]
  },
  {
   "cell_type": "code",
   "execution_count": 15,
   "metadata": {},
   "outputs": [
    {
     "name": "stderr",
     "output_type": "stream",
     "text": [
      "[Stage 12:======================================================> (75 + 2) / 77]\r"
     ]
    },
    {
     "name": "stdout",
     "output_type": "stream",
     "text": [
      "+--------------------+--------------------+\n",
      "|             Airline|flightCountByAirline|\n",
      "+--------------------+--------------------+\n",
      "|   Endeavor Air Inc.|              998224|\n",
      "|United Air Lines ...|             2354538|\n",
      "|    Compass Airlines|              154985|\n",
      "|         Comair Inc.|              957220|\n",
      "|Southwest Airline...|             5474339|\n",
      "|ExpressJet Airlin...|              353669|\n",
      "|     JetBlue Airways|             1106079|\n",
      "|Empire Airlines Inc.|               23122|\n",
      "|           Envoy Air|             1072778|\n",
      "|Capital Cargo Int...|              392011|\n",
      "|Hawaiian Airlines...|              310782|\n",
      "|  Mesa Airlines Inc.|              749216|\n",
      "|American Airlines...|             3134117|\n",
      "|   Republic Airlines|             1283704|\n",
      "|    Spirit Air Lines|              836694|\n",
      "|GoJet Airlines, L...|              276486|\n",
      "|       Allegiant Air|              489400|\n",
      "|SkyWest Airlines ...|             3159683|\n",
      "|         Horizon Air|              471153|\n",
      "|Air Wisconsin Air...|              380202|\n",
      "+--------------------+--------------------+\n",
      "only showing top 20 rows\n",
      "\n"
     ]
    },
    {
     "name": "stderr",
     "output_type": "stream",
     "text": [
      "                                                                                \r"
     ]
    }
   ],
   "source": [
    "airlineRank.show()"
   ]
  },
  {
   "cell_type": "code",
   "execution_count": 39,
   "metadata": {},
   "outputs": [],
   "source": [
    "#1 add a new column to show ratio of delayed flights for each airline\n",
    "numDelayedByAirline = numDelayedByAirline\\\n",
    "    .join(airlineRank, \"Airline\")\\\n",
    "    .withColumn(\"2022delayedRatio\", ((func.col(\"2022SumDelayedByAirline\") / func.col(\"2022flightCountByAirline\")) * 100))\\\n",
    "    .drop(\"count\")\n",
    "#CHANGE"
   ]
  },
  {
   "cell_type": "code",
   "execution_count": 40,
   "metadata": {},
   "outputs": [
    {
     "name": "stderr",
     "output_type": "stream",
     "text": [
      "                                                                                \r"
     ]
    },
    {
     "name": "stdout",
     "output_type": "stream",
     "text": [
      "+--------------------+-----------------------+------------------------+------------------+\n",
      "|             Airline|2022sumDelayedByAirline|2022flightCountByAirline|  2022delayedRatio|\n",
      "+--------------------+-----------------------+------------------------+------------------+\n",
      "|GoJet Airlines, L...|                   9614|                   34793|27.631994941511223|\n",
      "|   Endeavor Air Inc.|                  25708|                  142624|18.025016827462416|\n",
      "|       Allegiant Air|                  27412|                   73504| 37.29320853286896|\n",
      "|SkyWest Airlines ...|                  85982|                  440807|19.505588613610943|\n",
      "|Air Wisconsin Air...|                   7243|                   40300|17.972704714640198|\n",
      "|Frontier Airlines...|                  31234|                   86557|36.084892036461525|\n",
      "|Southwest Airline...|                 230921|                  731925|31.549817262697683|\n",
      "|     JetBlue Airways|                  59127|                  156793| 37.71022941075176|\n",
      "|Commutair Aka Cha...|                   9541|                   44367|21.504721978046746|\n",
      "|Capital Cargo Int...|                   8914|                   52827|16.873947034660304|\n",
      "+--------------------+-----------------------+------------------------+------------------+\n",
      "only showing top 10 rows\n",
      "\n"
     ]
    }
   ],
   "source": [
    "#1\n",
    "numDelayedByAirline.show(10)"
   ]
  },
  {
   "cell_type": "code",
   "execution_count": 41,
   "metadata": {},
   "outputs": [
    {
     "name": "stderr",
     "output_type": "stream",
     "text": [
      "                                                                                \r"
     ]
    }
   ],
   "source": [
    "#Creates csv with specified data (DONT RUN UNLESS NEEDED)\n",
    "combinedFlightsDF.write.option(\"header\",True).csv(\"2022numDelayedByAirline\")"
   ]
  },
  {
   "cell_type": "code",
   "execution_count": 46,
   "metadata": {},
   "outputs": [],
   "source": [
    "#total flights for each of the origin cities\n",
    "cityRank = combinedFlightsDF.groupBy(\"OriginCityName\").count() \n",
    "cityRank = cityRank.withColumnRenamed(\"count\", \"2022totalFlightsByCity\") #CHANGE"
   ]
  },
  {
   "cell_type": "code",
   "execution_count": 47,
   "metadata": {},
   "outputs": [
    {
     "name": "stderr",
     "output_type": "stream",
     "text": [
      "[Stage 63:==============================================>          (9 + 2) / 11]\r"
     ]
    },
    {
     "name": "stdout",
     "output_type": "stream",
     "text": [
      "+----------------------------+--------------------+\n",
      "|OriginCityName              |2022sumDelayedByCity|\n",
      "+----------------------------+--------------------+\n",
      "|Gainesville, FL             |443                 |\n",
      "|Richmond, VA                |2987                |\n",
      "|Ontario, CA                 |2742                |\n",
      "|Tucson, AZ                  |1618                |\n",
      "|Pago Pago, TT               |16                  |\n",
      "|Myrtle Beach, SC            |2149                |\n",
      "|Medford, OR                 |729                 |\n",
      "|Palm Springs, CA            |1865                |\n",
      "|Durango, CO                 |479                 |\n",
      "|St. Cloud, MN               |34                  |\n",
      "|Mobile, AL                  |617                 |\n",
      "|Corpus Christi, TX          |468                 |\n",
      "|Huntsville, AL              |1066                |\n",
      "|Pensacola, FL               |1510                |\n",
      "|Fort Myers, FL              |7534                |\n",
      "|Columbus, GA                |230                 |\n",
      "|Springfield, IL             |225                 |\n",
      "|Pasco/Kennewick/Richland, WA|494                 |\n",
      "|Montrose/Delta, CO          |470                 |\n",
      "|San Juan, PR                |5246                |\n",
      "|Lihue, HI                   |1502                |\n",
      "|Garden City, KS             |63                  |\n",
      "|Harlingen/San Benito, TX    |510                 |\n",
      "|Reno, NV                    |2266                |\n",
      "|Santa Rosa, CA              |411                 |\n",
      "|Columbus, OH                |5691                |\n",
      "|Honolulu, HI                |6663                |\n",
      "|Bakersfield, CA             |240                 |\n",
      "|Sanford, FL                 |1879                |\n",
      "|Burlington, VT              |1256                |\n",
      "+----------------------------+--------------------+\n",
      "only showing top 30 rows\n",
      "\n"
     ]
    },
    {
     "name": "stderr",
     "output_type": "stream",
     "text": [
      "                                                                                \r"
     ]
    }
   ],
   "source": [
    "# groups delayed flights by city\n",
    "numDelayedByCity = delayDF.groupBy(\"OriginCityName\").agg({\"ifDelayed\" : \"sum\"})\n",
    "numDelayedByCity = numDelayedByCity.withColumnRenamed(\"sum(ifDelayed)\", \"2022sumDelayedByCity\") #CHANGE\n",
    "numDelayedByCity.show(30,truncate=False)"
   ]
  },
  {
   "cell_type": "code",
   "execution_count": 49,
   "metadata": {},
   "outputs": [],
   "source": [
    "#2 add a new column to show ratio of delayed flights for each airline\n",
    "numDelayedByCity = numDelayedByCity\\\n",
    "    .join(cityRank, \"OriginCityName\")\\\n",
    "    .withColumn(\"2022delayedRatio\", ((func.col(\"2022SumDelayedByCity\") / func.col(\"2022totalFlightsByCity\")) * 100))\\\n",
    "    .drop(\"count\")\n",
    "#CHANGE"
   ]
  },
  {
   "cell_type": "code",
   "execution_count": 50,
   "metadata": {},
   "outputs": [
    {
     "name": "stderr",
     "output_type": "stream",
     "text": [
      "                                                                                \r"
     ]
    },
    {
     "name": "stdout",
     "output_type": "stream",
     "text": [
      "+---------------+--------------------+----------------------+------------------+\n",
      "| OriginCityName|2022sumDelayedByCity|2022totalFlightsByCity|  2022delayedRatio|\n",
      "+---------------+--------------------+----------------------+------------------+\n",
      "|Gainesville, FL|                 443|                  2193| 20.20063839489284|\n",
      "|   Richmond, VA|                2987|                 13977|21.370823495743007|\n",
      "|    Ontario, CA|                2742|                 13418| 20.43523624981368|\n",
      "|     Tucson, AZ|                1618|                  9546|16.949507647182067|\n",
      "|  Pago Pago, TT|                  16|                    25|              64.0|\n",
      "+---------------+--------------------+----------------------+------------------+\n",
      "only showing top 5 rows\n",
      "\n"
     ]
    }
   ],
   "source": [
    "#2\n",
    "numDelayedByCity.show(5)"
   ]
  },
  {
   "cell_type": "code",
   "execution_count": 51,
   "metadata": {},
   "outputs": [
    {
     "name": "stderr",
     "output_type": "stream",
     "text": [
      "                                                                                \r"
     ]
    }
   ],
   "source": [
    "#Creates csv with specified data (DONT RUN UNLESS NEEDED)\n",
    "combinedFlightsDF.write.option(\"header\",True).csv(\"2022numDelayedByCity\") #CHANGE"
   ]
  },
  {
   "cell_type": "code",
   "execution_count": 58,
   "metadata": {},
   "outputs": [
    {
     "name": "stderr",
     "output_type": "stream",
     "text": [
      "[Stage 82:==============================================>          (9 + 2) / 11]\r"
     ]
    },
    {
     "name": "stdout",
     "output_type": "stream",
     "text": [
      "+-------+-------------------+----------------+\n",
      "|Quarter|    OriginStateName|2022totalFlights|\n",
      "+-------+-------------------+----------------+\n",
      "|      2|               Ohio|           24548|\n",
      "|      2|      Massachusetts|           36848|\n",
      "|      2|         New Mexico|            6278|\n",
      "|      2|             Hawaii|           30792|\n",
      "|      2|            Vermont|            2535|\n",
      "|      2|             Nevada|           47811|\n",
      "|      2|          Louisiana|           17803|\n",
      "|      2|             Kansas|            3905|\n",
      "|      2|           Oklahoma|            9872|\n",
      "|      2|            Wyoming|            1750|\n",
      "|      2|         California|          187240|\n",
      "|      2|              Texas|          187306|\n",
      "|      2|U.S. Virgin Islands|            1846|\n",
      "|      2|            Florida|          151702|\n",
      "|      2|           Arkansas|            7017|\n",
      "|      2|        Puerto Rico|            8771|\n",
      "|      2|     South Carolina|           18536|\n",
      "|      2|        Connecticut|            5999|\n",
      "|      2|       Rhode Island|            4140|\n",
      "|      2|         Washington|           53537|\n",
      "+-------+-------------------+----------------+\n",
      "only showing top 20 rows\n",
      "\n"
     ]
    },
    {
     "name": "stderr",
     "output_type": "stream",
     "text": [
      "                                                                                \r"
     ]
    }
   ],
   "source": [
    "#Count total # of flights by Quarter and Origin State\n",
    "timeLocationCancelledDF = delayDF.groupBy(\"Quarter\",\"OriginStateName\").count()\n",
    "timeLocationCancelledDF = timeLocationCancelledDF.withColumnRenamed(\"count\", \"2022totalFlights\") #CHANGE\n",
    "timeLocationCancelledDF.show()\n"
   ]
  },
  {
   "cell_type": "code",
   "execution_count": 59,
   "metadata": {},
   "outputs": [
    {
     "name": "stderr",
     "output_type": "stream",
     "text": [
      "[Stage 85:==============================================>          (9 + 2) / 11]\r"
     ]
    },
    {
     "name": "stdout",
     "output_type": "stream",
     "text": [
      "+-------+-------------------+--------------------+\n",
      "|Quarter|    OriginStateName|2022cancelledFlights|\n",
      "+-------+-------------------+--------------------+\n",
      "|      2|               Ohio|                 742|\n",
      "|      2|      Massachusetts|                1277|\n",
      "|      2|         New Mexico|                  65|\n",
      "|      2|             Hawaii|                 233|\n",
      "|      2|            Vermont|                 114|\n",
      "|      2|             Nevada|                 763|\n",
      "|      2|          Louisiana|                 358|\n",
      "|      2|             Kansas|                  50|\n",
      "|      2|           Oklahoma|                 141|\n",
      "|      2|            Wyoming|                  46|\n",
      "|      2|         California|                2432|\n",
      "|      2|              Texas|                3482|\n",
      "|      2|U.S. Virgin Islands|                  29|\n",
      "|      2|            Florida|                5402|\n",
      "|      2|           Arkansas|                  89|\n",
      "|      2|        Puerto Rico|                 272|\n",
      "|      2|     South Carolina|                 559|\n",
      "|      2|        Connecticut|                 195|\n",
      "|      2|       Rhode Island|                 165|\n",
      "|      2|         Washington|                1068|\n",
      "+-------+-------------------+--------------------+\n",
      "only showing top 20 rows\n",
      "\n"
     ]
    },
    {
     "name": "stderr",
     "output_type": "stream",
     "text": [
      "                                                                                \r"
     ]
    }
   ],
   "source": [
    "#Count cancelled flight based on quarter and origin state name\n",
    "timeLocationFlightsDF = delayDF.groupBy(\"Quarter\",\"OriginStateName\").agg({\"ifCancelled\" : \"sum\"})\n",
    "timeLocationFlightsDF = timeLocationFlightsDF.withColumnRenamed(\"sum(ifCancelled)\", \"2022cancelledFlights\") #CHANGE\n",
    "timeLocationFlightsDF.show()"
   ]
  },
  {
   "cell_type": "code",
   "execution_count": 60,
   "metadata": {},
   "outputs": [],
   "source": [
    "#join previous dataframes\n",
    "timeLocationDF = timeLocationFlightsDF.join(timeLocationCancelledDF, [\"Quarter\", \"OriginStateName\"])"
   ]
  },
  {
   "cell_type": "code",
   "execution_count": 61,
   "metadata": {},
   "outputs": [],
   "source": [
    "#calculate ration of cancelled flights / total flights based on quarter + origin state\n",
    "timeLocationDF = timeLocationDF.withColumn(\"2022timeLocationCancellationRatio\", ((func.col(\"2022cancelledFlights\") / func.col(\"2022totalFlights\")) * 100))\n",
    "#CHANGE"
   ]
  },
  {
   "cell_type": "code",
   "execution_count": 62,
   "metadata": {},
   "outputs": [
    {
     "name": "stderr",
     "output_type": "stream",
     "text": [
      "                                                                                \r"
     ]
    },
    {
     "name": "stdout",
     "output_type": "stream",
     "text": [
      "+-------+-------------------+--------------------+----------------+---------------------------------+\n",
      "|Quarter|    OriginStateName|2022cancelledFlights|2022totalFlights|2022timeLocationCancellationRatio|\n",
      "+-------+-------------------+--------------------+----------------+---------------------------------+\n",
      "|      2|               Ohio|                 742|           24548|                3.022649503014502|\n",
      "|      2|      Massachusetts|                1277|           36848|               3.4655883630047764|\n",
      "|      2|         New Mexico|                  65|            6278|               1.0353615801210576|\n",
      "|      2|             Hawaii|                 233|           30792|                0.756690049363471|\n",
      "|      2|            Vermont|                 114|            2535|                4.497041420118343|\n",
      "|      2|             Nevada|                 763|           47811|               1.5958670598816171|\n",
      "|      2|          Louisiana|                 358|           17803|               2.0108970398247488|\n",
      "|      2|             Kansas|                  50|            3905|               1.2804097311139564|\n",
      "|      2|           Oklahoma|                 141|            9872|               1.4282820097244733|\n",
      "|      2|            Wyoming|                  46|            1750|               2.6285714285714286|\n",
      "|      2|         California|                2432|          187240|               1.2988677632984404|\n",
      "|      2|              Texas|                3482|          187306|               1.8589901017586195|\n",
      "|      2|U.S. Virgin Islands|                  29|            1846|                1.570964247020585|\n",
      "|      2|            Florida|                5402|          151702|               3.5609286627730685|\n",
      "|      2|           Arkansas|                  89|            7017|                1.268348296993017|\n",
      "|      2|        Puerto Rico|                 272|            8771|                3.101128719644282|\n",
      "|      2|     South Carolina|                 559|           18536|               3.0157531290461805|\n",
      "|      2|        Connecticut|                 195|            5999|               3.2505417569594934|\n",
      "|      2|       Rhode Island|                 165|            4140|                3.985507246376811|\n",
      "|      2|         Washington|                1068|           53537|                1.994882044193735|\n",
      "+-------+-------------------+--------------------+----------------+---------------------------------+\n",
      "only showing top 20 rows\n",
      "\n"
     ]
    }
   ],
   "source": [
    "# Cancelation based on Time + Location\n",
    "timeLocationDF.show()"
   ]
  },
  {
   "cell_type": "code",
   "execution_count": 63,
   "metadata": {},
   "outputs": [
    {
     "name": "stderr",
     "output_type": "stream",
     "text": [
      "                                                                                \r"
     ]
    }
   ],
   "source": [
    "#3 Creates csv with specified data (DONT RUN UNLESS NEEDED)\n",
    "combinedFlightsDF.write.option(\"header\",True).csv(\"2022timeLocationCancellation\") #CHANGE"
   ]
  },
  {
   "cell_type": "code",
   "execution_count": 65,
   "metadata": {},
   "outputs": [
    {
     "name": "stderr",
     "output_type": "stream",
     "text": [
      "[Stage 98:==============================================>          (9 + 2) / 11]\r"
     ]
    },
    {
     "name": "stdout",
     "output_type": "stream",
     "text": [
      "+---------+---------+\n",
      "|ifDelayed|2022count|\n",
      "+---------+---------+\n",
      "|        1|  1032521|\n",
      "|        0|  3045797|\n",
      "+---------+---------+\n",
      "\n"
     ]
    },
    {
     "name": "stderr",
     "output_type": "stream",
     "text": [
      "                                                                                \r"
     ]
    }
   ],
   "source": [
    "#4 delayed flights\n",
    "delayedFlights = delayDF.groupBy(\"ifDelayed\").count()\n",
    "delayedFlights = delayedFlights.withColumnRenamed(\"count\", \"2022count\") #CHANGE\n",
    "delayedFlights.show() #1 - Delayed, 0 - Not delayed"
   ]
  },
  {
   "cell_type": "code",
   "execution_count": 66,
   "metadata": {},
   "outputs": [
    {
     "name": "stderr",
     "output_type": "stream",
     "text": [
      "                                                                                \r"
     ]
    }
   ],
   "source": [
    "#Creates csv with specified data (DONT RUN UNLESS NEEDED)\n",
    "combinedFlightsDF.write.option(\"header\",True).csv(\"2022delayedFlights\") #CHANGE"
   ]
  },
  {
   "cell_type": "code",
   "execution_count": 67,
   "metadata": {},
   "outputs": [
    {
     "name": "stderr",
     "output_type": "stream",
     "text": [
      "[Stage 102:=============================================>          (9 + 2) / 11]\r"
     ]
    },
    {
     "name": "stdout",
     "output_type": "stream",
     "text": [
      "+---------+---------+\n",
      "|Cancelled|2022count|\n",
      "+---------+---------+\n",
      "|     true|   123192|\n",
      "|    false|  3955126|\n",
      "+---------+---------+\n",
      "\n"
     ]
    },
    {
     "name": "stderr",
     "output_type": "stream",
     "text": [
      "                                                                                \r"
     ]
    }
   ],
   "source": [
    "#5 cancelled flights\n",
    "cancelledFlights = combinedFlightsDF.groupBy(\"Cancelled\").count()\n",
    "cancelledFlights = cancelledFlights.withColumnRenamed(\"count\", \"2022count\") #CHANGE\n",
    "cancelledFlights.show()"
   ]
  },
  {
   "cell_type": "code",
   "execution_count": 68,
   "metadata": {},
   "outputs": [
    {
     "name": "stderr",
     "output_type": "stream",
     "text": [
      "                                                                                \r"
     ]
    }
   ],
   "source": [
    "#Creates csv with specified data (DONT RUN UNLESS NEEDED)\n",
    "combinedFlightsDF.write.option(\"header\",True).csv(\"2022cancelledFlights\") #CHANGE"
   ]
  },
  {
   "cell_type": "code",
   "execution_count": 69,
   "metadata": {},
   "outputs": [],
   "source": [
    "#categorize flights by date\n",
    "dayOfWeekRank = combinedFlightsDF.groupBy(\"DayOfWeek\").count()\n",
    "dayOfWeekRank = dayOfWeekRank.withColumnRenamed(\"count\", \"2022totalFlightsOnDay\") #CHANGE"
   ]
  },
  {
   "cell_type": "code",
   "execution_count": 70,
   "metadata": {},
   "outputs": [
    {
     "name": "stderr",
     "output_type": "stream",
     "text": [
      "[Stage 106:=============================================>          (9 + 2) / 11]\r"
     ]
    },
    {
     "name": "stdout",
     "output_type": "stream",
     "text": [
      "+---------+---------------------+\n",
      "|DayOfWeek|2022totalFlightsOnDay|\n",
      "+---------+---------------------+\n",
      "|        1|               600370|\n",
      "|        6|               535618|\n",
      "|        3|               566951|\n",
      "|        5|               605385|\n",
      "|        4|               603939|\n",
      "|        7|               609250|\n",
      "|        2|               556805|\n",
      "+---------+---------------------+\n",
      "\n"
     ]
    },
    {
     "name": "stderr",
     "output_type": "stream",
     "text": [
      "                                                                                \r"
     ]
    }
   ],
   "source": [
    "dayOfWeekRank.show()"
   ]
  },
  {
   "cell_type": "code",
   "execution_count": 71,
   "metadata": {},
   "outputs": [
    {
     "name": "stderr",
     "output_type": "stream",
     "text": [
      "[Stage 109:=============================================>          (9 + 2) / 11]\r"
     ]
    },
    {
     "name": "stdout",
     "output_type": "stream",
     "text": [
      "+---------+-----------------------+\n",
      "|DayOfWeek|2022sumDelayedByWeekDay|\n",
      "+---------+-----------------------+\n",
      "|        1|                 150474|\n",
      "|        6|                 141345|\n",
      "|        3|                 123488|\n",
      "|        5|                 174882|\n",
      "|        4|                 156528|\n",
      "|        7|                 167959|\n",
      "|        2|                 117845|\n",
      "+---------+-----------------------+\n",
      "\n"
     ]
    },
    {
     "name": "stderr",
     "output_type": "stream",
     "text": [
      "                                                                                \r"
     ]
    }
   ],
   "source": [
    "# group delayed flights by day of the week\n",
    "delayedFlightByDay = delayDF.groupBy(\"DayOfWeek\").agg({\"ifDelayed\" : \"sum\"})\n",
    "delayedFlightByDay = delayedFlightByDay.withColumnRenamed(\"sum(ifDelayed)\", \"2022sumDelayedByWeekDay\") #TODO NO RENAMING\n",
    "delayedFlightByDay.show()"
   ]
  },
  {
   "cell_type": "code",
   "execution_count": 72,
   "metadata": {},
   "outputs": [
    {
     "name": "stderr",
     "output_type": "stream",
     "text": [
      "[Stage 112:=============================================>          (9 + 2) / 11]\r"
     ]
    },
    {
     "name": "stdout",
     "output_type": "stream",
     "text": [
      "+---------+-------------------------+\n",
      "|DayOfWeek|2022sumCancelledByWeekDay|\n",
      "+---------+-------------------------+\n",
      "|        1|                    16622|\n",
      "|        6|                    19799|\n",
      "|        3|                    12902|\n",
      "|        5|                    21914|\n",
      "|        4|                    22793|\n",
      "|        7|                    20669|\n",
      "|        2|                     8493|\n",
      "+---------+-------------------------+\n",
      "\n"
     ]
    },
    {
     "name": "stderr",
     "output_type": "stream",
     "text": [
      "                                                                                \r"
     ]
    }
   ],
   "source": [
    "# group cancelled flights by day of the week\n",
    "cancelledFlightByDay = delayDF.groupBy(\"DayOfWeek\").agg({\"ifCancelled\" : \"sum\"})\n",
    "cancelledFlightByDay = cancelledFlightByDay.withColumnRenamed(\"sum(ifCancelled)\", \"2022sumCancelledByWeekDay\") \n",
    "cancelledFlightByDay.show()"
   ]
  },
  {
   "cell_type": "code",
   "execution_count": 73,
   "metadata": {},
   "outputs": [],
   "source": [
    "analysisByWeekDay = dayOfWeekRank.join(delayedFlightByDay, [\"DayOfWeek\"]).join(cancelledFlightByDay, [\"DayOfWeek\"])"
   ]
  },
  {
   "cell_type": "code",
   "execution_count": 75,
   "metadata": {},
   "outputs": [],
   "source": [
    "analysisByWeekDay = analysisByWeekDay.withColumn(\"2022CancelledRatio\", (( func.col(\"2022sumCancelledByWeekDay\") / func.col(\"2022totalFlightsOnDay\")) * 100))"
   ]
  },
  {
   "cell_type": "code",
   "execution_count": 76,
   "metadata": {},
   "outputs": [],
   "source": [
    "analysisByWeekDay = analysisByWeekDay.withColumn(\"2022DelayedRatio\", ((func.col(\"2022sumDelayedByWeekDay\") / func.col(\"2022totalFlightsOnDay\")) * 100))"
   ]
  },
  {
   "cell_type": "code",
   "execution_count": 77,
   "metadata": {},
   "outputs": [],
   "source": [
    "analysisByWeekDay = analysisByWeekDay.withColumn(\"2022Delayed+CancelledRatio\", (((func.col(\"2022sumDelayedByWeekDay\") + func.col(\"2022sumCancelledByWeekDay\")) / func.col(\"2022totalFlightsOnDay\")) * 100))"
   ]
  },
  {
   "cell_type": "code",
   "execution_count": 78,
   "metadata": {},
   "outputs": [
    {
     "name": "stderr",
     "output_type": "stream",
     "text": [
      "                                                                                \r"
     ]
    },
    {
     "name": "stdout",
     "output_type": "stream",
     "text": [
      "+---------+---------------------+-----------------------+-------------------------+------------------+------------------+--------------------------+\n",
      "|DayOfWeek|2022totalFlightsOnDay|2022sumDelayedByWeekDay|2022sumCancelledByWeekDay|2022CancelledRatio|  2022DelayedRatio|2022Delayed+CancelledRatio|\n",
      "+---------+---------------------+-----------------------+-------------------------+------------------+------------------+--------------------------+\n",
      "|        1|               600370|                 150474|                    16622| 2.768626013958059| 25.06354414777554|          27.8321701617336|\n",
      "|        6|               535618|                 141345|                    19799|  3.69647771359439| 26.38914300863675|        30.085620722231145|\n",
      "|        3|               566951|                 123488|                    12902| 2.275681672666597|21.781071027302183|         24.05675269996878|\n",
      "|        5|               605385|                 174882|                    21914|3.6198452224617395|28.887732599915754|          32.5075778223775|\n",
      "|        4|               603939|                 156528|                    22793| 3.774056651416782| 25.91784931921933|        29.691905970636107|\n",
      "|        7|               609250|                 167959|                    20669|3.3925318013951578|27.568157570783754|        30.960689372178905|\n",
      "|        2|               556805|                 117845|                     8493|1.5253095787573747|21.164501037167412|        22.689810615924785|\n",
      "+---------+---------------------+-----------------------+-------------------------+------------------+------------------+--------------------------+\n",
      "\n"
     ]
    }
   ],
   "source": [
    "#6 Days of the week analysis\n",
    "analysisByWeekDay.show()"
   ]
  },
  {
   "cell_type": "code",
   "execution_count": 79,
   "metadata": {},
   "outputs": [
    {
     "name": "stderr",
     "output_type": "stream",
     "text": [
      "                                                                                \r"
     ]
    }
   ],
   "source": [
    "#Creates csv with specified data (DONT RUN UNLESS NEEDED)\n",
    "combinedFlightsDF.write.option(\"header\",True).csv(\"2022analysisByWeekDay\")"
   ]
  }
 ],
 "metadata": {
  "kernelspec": {
   "display_name": "Python 3.9.7 ('base')",
   "language": "python",
   "name": "python3"
  },
  "language_info": {
   "codemirror_mode": {
    "name": "ipython",
    "version": 3
   },
   "file_extension": ".py",
   "mimetype": "text/x-python",
   "name": "python",
   "nbconvert_exporter": "python",
   "pygments_lexer": "ipython3",
   "version": "3.9.7"
  },
  "orig_nbformat": 4,
  "vscode": {
   "interpreter": {
    "hash": "d1943d34fd5fa7f15701143ece1921e013240ae3b26bb534409e23209b0a7faf"
   }
  }
 },
 "nbformat": 4,
 "nbformat_minor": 2
}

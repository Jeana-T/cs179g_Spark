{
 "cells": [
  {
   "cell_type": "code",
   "execution_count": 1,
   "metadata": {},
   "outputs": [],
   "source": [
    "import pyspark\n",
    "import pandas as pd\n",
    "import numpy as np\n",
    "import matplotlib.pyplot as plt\n",
    "from pyspark.sql import functions as func\n",
    "from pyspark.sql.types import StringType,FloatType\n",
    "import nltk\n",
    "from pyspark.sql import SparkSession\n"
   ]
  },
  {
   "cell_type": "code",
   "execution_count": 2,
   "metadata": {},
   "outputs": [
    {
     "name": "stdout",
     "output_type": "stream",
     "text": [
      "22/11/25 16:08:07 WARN Utils: Your hostname, Jeanas-MacBook-Pro-5.local resolves to a loopback address: 127.0.0.1; using 192.168.0.18 instead (on interface en0)\n",
      "22/11/25 16:08:07 WARN Utils: Set SPARK_LOCAL_IP if you need to bind to another address\n"
     ]
    },
    {
     "name": "stderr",
     "output_type": "stream",
     "text": [
      "Setting default log level to \"WARN\".\n",
      "To adjust logging level use sc.setLogLevel(newLevel). For SparkR, use setLogLevel(newLevel).\n"
     ]
    },
    {
     "name": "stdout",
     "output_type": "stream",
     "text": [
      "22/11/25 16:08:08 WARN NativeCodeLoader: Unable to load native-hadoop library for your platform... using builtin-java classes where applicable\n"
     ]
    },
    {
     "name": "stderr",
     "output_type": "stream",
     "text": [
      "                                                                                \r"
     ]
    }
   ],
   "source": [
    "# reading in flight data csv\n",
    "spark = SparkSession.builder.master('local[*]').appName('FlightAnalysis').getOrCreate()\n",
    "combinedFlightsDF = spark.read.options(header = True, inferSchema = True).csv(\"Combined_Flights_2018.csv\")"
   ]
  },
  {
   "cell_type": "code",
   "execution_count": 3,
   "metadata": {},
   "outputs": [],
   "source": [
    "# drops unnecessary columns\n",
    "drop_cols = (\"FlightDate\",\"Origin\",\"Dest\",\"Diverted\",\"DepDelayMinutes\",\"ArrDelayMinutes\",\"IATA_Code_Operating_Airline\",\"DestAirportSeqID\",\"DestCityMarketID\",\"DOT_ID_Operating_Airline\",\"DOT_ID_Marketing_Airline\",\"IATA_Code_Marketing_Airline\",\"Operated_or_Branded_Code_Share_Partners\",\"CRSDepTime\",\"DepDelay\",\"AirTime\",\"CRSElapsedTime\", \"Distance\", \"Marketing_Airline_Network\", \"Flight_Number_Marketing_Airline\", \"Operating_Airline\", \"Tail_Number\", \"Flight_Number_Operating_Airline\", \"OriginAirportID\",  \"OriginAirportSeqID\", \"OriginCityMarketID\",  \"OriginState\",  \"OriginStateFips\", \"OriginWac\", \"DestAirportID\", \"DestState\", \"DestStateFips\", \"DestStateName\", \"DestWac\", \"DepartureDelayGroups\", \"DepTimeBlk\", \"TaxiOut\", \"WheelsOff\", \"WheelsOn\", \"TaxiIn\", \"CRSArrTime\", \"ArrDelay\", \"ArrivalDelayGroups\", \"ArrTimeBlk\", \"DistanceGroup\", \"DivAirportLandings\")\n",
    "combinedFlightsDF = combinedFlightsDF.drop(*drop_cols)"
   ]
  },
  {
   "cell_type": "code",
   "execution_count": 70,
   "metadata": {},
   "outputs": [
    {
     "name": "stdout",
     "output_type": "stream",
     "text": [
      "+---------+---------+-------+-------+-----------------+----+-------+-----+----------+---------+---------------+---------------+------------+--------+--------+\n",
      "|  Airline|Cancelled|DepTime|ArrTime|ActualElapsedTime|Year|Quarter|Month|DayofMonth|DayOfWeek| OriginCityName|OriginStateName|DestCityName|DepDel15|ArrDel15|\n",
      "+---------+---------+-------+-------+-----------------+----+-------+-----+----------+---------+---------------+---------------+------------+--------+--------+\n",
      "|Envoy Air|    false| 1209.0| 1350.0|            101.0|2019|      2|    4|         1|        1|Little Rock, AR|       Arkansas| Chicago, IL|     0.0|     0.0|\n",
      "|Envoy Air|    false| 1200.0| 1348.0|            108.0|2019|      2|    4|         2|        2|Little Rock, AR|       Arkansas| Chicago, IL|     0.0|     0.0|\n",
      "|Envoy Air|    false| 1203.0| 1342.0|             99.0|2019|      2|    4|         3|        3|Little Rock, AR|       Arkansas| Chicago, IL|     0.0|     0.0|\n",
      "|Envoy Air|    false| 1435.0| 1621.0|            106.0|2019|      2|    4|         4|        4|Little Rock, AR|       Arkansas| Chicago, IL|     1.0|     1.0|\n",
      "|Envoy Air|    false| 1216.0| 1410.0|            114.0|2019|      2|    4|         5|        5|Little Rock, AR|       Arkansas| Chicago, IL|     0.0|     0.0|\n",
      "+---------+---------+-------+-------+-----------------+----+-------+-----+----------+---------+---------------+---------------+------------+--------+--------+\n",
      "only showing top 5 rows\n",
      "\n"
     ]
    }
   ],
   "source": [
    "combinedFlightsDF.show(5)"
   ]
  },
  {
   "cell_type": "code",
   "execution_count": 4,
   "metadata": {},
   "outputs": [],
   "source": [
    "searchBarDropCols = (\"Cancelled\",\"Quarter\",\"DayOfWeek\")\n",
    "searchBarDF = combinedFlightsDF.drop(*searchBarDropCols)"
   ]
  },
  {
   "cell_type": "code",
   "execution_count": 6,
   "metadata": {},
   "outputs": [
    {
     "name": "stdout",
     "output_type": "stream",
     "text": [
      "+---------+-------+-------+-----------------+----+-----+----------+---------------+------------+--------+--------+\n",
      "|  Airline|DepTime|ArrTime|ActualElapsedTime|Year|Month|DayofMonth| OriginCityName|DestCityName|DepDel15|ArrDel15|\n",
      "+---------+-------+-------+-----------------+----+-----+----------+---------------+------------+--------+--------+\n",
      "|Envoy Air| 1209.0| 1350.0|            101.0|2019|    4|         1|Little Rock, AR| Chicago, IL|     0.0|     0.0|\n",
      "|Envoy Air| 1200.0| 1348.0|            108.0|2019|    4|         2|Little Rock, AR| Chicago, IL|     0.0|     0.0|\n",
      "|Envoy Air| 1203.0| 1342.0|             99.0|2019|    4|         3|Little Rock, AR| Chicago, IL|     0.0|     0.0|\n",
      "|Envoy Air| 1435.0| 1621.0|            106.0|2019|    4|         4|Little Rock, AR| Chicago, IL|     1.0|     1.0|\n",
      "|Envoy Air| 1216.0| 1410.0|            114.0|2019|    4|         5|Little Rock, AR| Chicago, IL|     0.0|     0.0|\n",
      "+---------+-------+-------+-----------------+----+-----+----------+---------------+------------+--------+--------+\n",
      "only showing top 5 rows\n",
      "\n"
     ]
    }
   ],
   "source": [
    "searchBarDF.show(5)"
   ]
  },
  {
   "cell_type": "code",
   "execution_count": 155,
   "metadata": {},
   "outputs": [
    {
     "name": "stderr",
     "output_type": "stream",
     "text": [
      "                                                                                \r"
     ]
    }
   ],
   "source": [
    "#Creates csv with specified data (DONT RUN UNLESS NEEDED)\n",
    "searchBarDF.write.option(\"header\",True).csv(\"allFlightsSearchBar\")"
   ]
  },
  {
   "cell_type": "code",
   "execution_count": 120,
   "metadata": {},
   "outputs": [
    {
     "name": "stderr",
     "output_type": "stream",
     "text": [
      "                                                                                \r"
     ]
    },
    {
     "name": "stdout",
     "output_type": "stream",
     "text": [
      "+----+-------+\n",
      "|Year|  count|\n",
      "+----+-------+\n",
      "|2020|5022397|\n",
      "+----+-------+\n",
      "\n"
     ]
    }
   ],
   "source": [
    "#dont need to run\n",
    "# Find # of flights per year\n",
    "yearCount = combinedFlightsDF.groupBy(\"Year\").count()\n",
    "yearCount.show()"
   ]
  },
  {
   "cell_type": "code",
   "execution_count": 5,
   "metadata": {},
   "outputs": [
    {
     "name": "stdout",
     "output_type": "stream",
     "text": [
      "+-----------------+---------+----+-------+-----+---------+--------------+---------------+--------+--------+\n",
      "|          Airline|Cancelled|Year|Quarter|Month|DayOfWeek|OriginCityName|OriginStateName|DepDel15|ArrDel15|\n",
      "+-----------------+---------+----+-------+-----+---------+--------------+---------------+--------+--------+\n",
      "|Endeavor Air Inc.|    false|2018|      1|    1|        2|    Albany, GA|        Georgia|     0.0|     0.0|\n",
      "|Endeavor Air Inc.|    false|2018|      1|    1|        3|    Albany, GA|        Georgia|     0.0|     0.0|\n",
      "|Endeavor Air Inc.|    false|2018|      1|    1|        4|    Albany, GA|        Georgia|     0.0|     0.0|\n",
      "|Endeavor Air Inc.|    false|2018|      1|    1|        5|    Albany, GA|        Georgia|     0.0|     0.0|\n",
      "|Endeavor Air Inc.|    false|2018|      1|    1|        6|    Albany, GA|        Georgia|     0.0|     0.0|\n",
      "+-----------------+---------+----+-------+-----+---------+--------------+---------------+--------+--------+\n",
      "only showing top 5 rows\n",
      "\n"
     ]
    }
   ],
   "source": [
    "# creating new df to analyze delayed flights by airline, orgin city, and month/year\n",
    "drop_cols = (\"DestCityName\", \"DayOfMonth\", \"DepTime\", \"ArrTime\", \"ActualElapsedTime\")\n",
    "delayDF = combinedFlightsDF.drop(*drop_cols)\n",
    "delayDF.show(5)"
   ]
  },
  {
   "cell_type": "code",
   "execution_count": null,
   "metadata": {},
   "outputs": [],
   "source": [
    "delayDF.columns"
   ]
  },
  {
   "cell_type": "code",
   "execution_count": 6,
   "metadata": {},
   "outputs": [
    {
     "name": "stdout",
     "output_type": "stream",
     "text": [
      "+-----------------+---------+----+-------+-----+---------+--------------+---------------+--------+--------+---------+\n",
      "|          Airline|Cancelled|Year|Quarter|Month|DayOfWeek|OriginCityName|OriginStateName|DepDel15|ArrDel15|ifDelayed|\n",
      "+-----------------+---------+----+-------+-----+---------+--------------+---------------+--------+--------+---------+\n",
      "|Endeavor Air Inc.|    false|2018|      1|    1|        2|    Albany, GA|        Georgia|     0.0|     0.0|        0|\n",
      "|Endeavor Air Inc.|    false|2018|      1|    1|        3|    Albany, GA|        Georgia|     0.0|     0.0|        0|\n",
      "|Endeavor Air Inc.|    false|2018|      1|    1|        4|    Albany, GA|        Georgia|     0.0|     0.0|        0|\n",
      "|Endeavor Air Inc.|    false|2018|      1|    1|        5|    Albany, GA|        Georgia|     0.0|     0.0|        0|\n",
      "|Endeavor Air Inc.|    false|2018|      1|    1|        6|    Albany, GA|        Georgia|     0.0|     0.0|        0|\n",
      "|Endeavor Air Inc.|    false|2018|      1|    1|        7|    Albany, GA|        Georgia|    null|     1.0|        1|\n",
      "|Endeavor Air Inc.|    false|2018|      1|    1|        1|    Albany, GA|        Georgia|     0.0|     0.0|        0|\n",
      "|Endeavor Air Inc.|    false|2018|      1|    1|        2|    Albany, GA|        Georgia|     0.0|     0.0|        0|\n",
      "|Endeavor Air Inc.|    false|2018|      1|    1|        3|    Albany, GA|        Georgia|     0.0|    null|        0|\n",
      "|Endeavor Air Inc.|    false|2018|      1|    1|        3|   Atlanta, GA|        Georgia|     1.0|     1.0|        1|\n",
      "+-----------------+---------+----+-------+-----+---------+--------------+---------------+--------+--------+---------+\n",
      "only showing top 10 rows\n",
      "\n"
     ]
    }
   ],
   "source": [
    "# uses bitwise or operator to find overall delayed flights\n",
    "delayDF = delayDF.withColumn(\"ifDelayed\", func.when((delayDF.ArrDel15 > 0) | (delayDF.DepDel15 > 0), 1).otherwise(0))\n",
    "delayDF.show(10)"
   ]
  },
  {
   "cell_type": "code",
   "execution_count": 7,
   "metadata": {},
   "outputs": [
    {
     "name": "stdout",
     "output_type": "stream",
     "text": [
      "+-----------------+---------+----+-------+-----+---------+--------------+---------------+--------+--------+---------+-----------+\n",
      "|          Airline|Cancelled|Year|Quarter|Month|DayOfWeek|OriginCityName|OriginStateName|DepDel15|ArrDel15|ifDelayed|ifCancelled|\n",
      "+-----------------+---------+----+-------+-----+---------+--------------+---------------+--------+--------+---------+-----------+\n",
      "|Endeavor Air Inc.|    false|2018|      1|    1|        2|    Albany, GA|        Georgia|     0.0|     0.0|        0|          0|\n",
      "|Endeavor Air Inc.|    false|2018|      1|    1|        3|    Albany, GA|        Georgia|     0.0|     0.0|        0|          0|\n",
      "|Endeavor Air Inc.|    false|2018|      1|    1|        4|    Albany, GA|        Georgia|     0.0|     0.0|        0|          0|\n",
      "|Endeavor Air Inc.|    false|2018|      1|    1|        5|    Albany, GA|        Georgia|     0.0|     0.0|        0|          0|\n",
      "|Endeavor Air Inc.|    false|2018|      1|    1|        6|    Albany, GA|        Georgia|     0.0|     0.0|        0|          0|\n",
      "|Endeavor Air Inc.|    false|2018|      1|    1|        7|    Albany, GA|        Georgia|    null|     1.0|        1|          0|\n",
      "|Endeavor Air Inc.|    false|2018|      1|    1|        1|    Albany, GA|        Georgia|     0.0|     0.0|        0|          0|\n",
      "|Endeavor Air Inc.|    false|2018|      1|    1|        2|    Albany, GA|        Georgia|     0.0|     0.0|        0|          0|\n",
      "|Endeavor Air Inc.|    false|2018|      1|    1|        3|    Albany, GA|        Georgia|     0.0|    null|        0|          0|\n",
      "|Endeavor Air Inc.|    false|2018|      1|    1|        3|   Atlanta, GA|        Georgia|     1.0|     1.0|        1|          0|\n",
      "+-----------------+---------+----+-------+-----+---------+--------------+---------------+--------+--------+---------+-----------+\n",
      "only showing top 10 rows\n",
      "\n"
     ]
    }
   ],
   "source": [
    "#create column making cancelled into bool (integer) value\n",
    "delayDF = delayDF.withColumn('ifCancelled', func.when(delayDF.Cancelled == 'false', 0).otherwise(1))\n",
    "delayDF.show(10)"
   ]
  },
  {
   "cell_type": "code",
   "execution_count": 159,
   "metadata": {},
   "outputs": [
    {
     "name": "stderr",
     "output_type": "stream",
     "text": [
      "[Stage 228:=====================================================> (75 + 2) / 77]\r"
     ]
    },
    {
     "name": "stdout",
     "output_type": "stream",
     "text": [
      "+-----------------------------------------+----------------------+\n",
      "|Airline                                  |allSumDelayedByAirline|\n",
      "+-----------------------------------------+----------------------+\n",
      "|Endeavor Air Inc.                        |147358                |\n",
      "|United Air Lines Inc.                    |510700                |\n",
      "|Compass Airlines                         |31705                 |\n",
      "|Comair Inc.                              |188171                |\n",
      "|Southwest Airlines Co.                   |1269581               |\n",
      "|ExpressJet Airlines Inc.                 |79802                 |\n",
      "|JetBlue Airways                          |325465                |\n",
      "|Empire Airlines Inc.                     |3665                  |\n",
      "|Envoy Air                                |205502                |\n",
      "|Capital Cargo International              |68581                 |\n",
      "|Hawaiian Airlines Inc.                   |39344                 |\n",
      "|Mesa Airlines Inc.                       |155645                |\n",
      "|American Airlines Inc.                   |678132                |\n",
      "|Republic Airlines                        |232202                |\n",
      "|Spirit Air Lines                         |185300                |\n",
      "|GoJet Airlines, LLC d/b/a United Express |59751                 |\n",
      "|Allegiant Air                            |127351                |\n",
      "|SkyWest Airlines Inc.                    |579040                |\n",
      "|Horizon Air                              |73990                 |\n",
      "|Air Wisconsin Airlines Corp              |73902                 |\n",
      "|Trans States Airlines                    |43557                 |\n",
      "|Peninsula Airways Inc.                   |1029                  |\n",
      "|Frontier Airlines Inc.                   |160522                |\n",
      "|Commutair Aka Champlain Enterprises, Inc.|71820                 |\n",
      "|Alaska Airlines Inc.                     |178222                |\n",
      "|Delta Air Lines Inc.                     |531592                |\n",
      "|Virgin America                           |4121                  |\n",
      "|Cape Air                                 |165                   |\n",
      "+-----------------------------------------+----------------------+\n",
      "\n"
     ]
    },
    {
     "name": "stderr",
     "output_type": "stream",
     "text": [
      "                                                                                \r"
     ]
    }
   ],
   "source": [
    "# groups delayed flights by airline\n",
    "numDelayedByAirline = delayDF.groupBy(\"Airline\").agg({\"ifDelayed\" : \"sum\"})\n",
    "numDelayedByAirline = numDelayedByAirline.withColumnRenamed(\"sum(ifDelayed)\", \"2018SumDelayedByAirline\") #CHANGED\n",
    "numDelayedByAirline.show(30,truncate=False)\n",
    "\n",
    "# to check if delayed flight per airline add up to original amount\n",
    "# sumdf = numDelayed.agg({\"sum(ifDelayed)\" : \"sum\"})\n",
    "# sumdf.show()"
   ]
  },
  {
   "cell_type": "code",
   "execution_count": 160,
   "metadata": {},
   "outputs": [],
   "source": [
    "#total flights for each of the 28 airlines\n",
    "airlineRank = combinedFlightsDF.groupBy(\"Airline\").count() #28 airlines\n",
    "airlineRank = airlineRank.withColumnRenamed(\"count\", \"allflightCountByAirline\") #CHANGED"
   ]
  },
  {
   "cell_type": "code",
   "execution_count": 89,
   "metadata": {},
   "outputs": [
    {
     "name": "stderr",
     "output_type": "stream",
     "text": [
      "[Stage 134:===================================================>   (16 + 1) / 17]\r"
     ]
    },
    {
     "name": "stdout",
     "output_type": "stream",
     "text": [
      "+--------------------+------------------------+\n",
      "|             Airline|2021flightCountByAirline|\n",
      "+--------------------+------------------------+\n",
      "|GoJet Airlines, L...|                   60143|\n",
      "|   Endeavor Air Inc.|                  266867|\n",
      "|       Allegiant Air|                  115881|\n",
      "|SkyWest Airlines ...|                  753343|\n",
      "|         Horizon Air|                  111628|\n",
      "|United Air Lines ...|                  446837|\n",
      "|Air Wisconsin Air...|                   80256|\n",
      "|         Comair Inc.|                  222602|\n",
      "|Frontier Airlines...|                  137142|\n",
      "|Southwest Airline...|                 1064640|\n",
      "|Commutair Aka Cha...|                   76666|\n",
      "|           Envoy Air|                  255751|\n",
      "|Hawaiian Airlines...|                   60542|\n",
      "|Delta Air Lines Inc.|                  747998|\n",
      "|  Mesa Airlines Inc.|                  159789|\n",
      "|American Airlines...|                  736399|\n",
      "|   Republic Airlines|                  332926|\n",
      "|    Spirit Air Lines|                  191361|\n",
      "|     JetBlue Airways|                  202702|\n",
      "|Capital Cargo Int...|                   99331|\n",
      "+--------------------+------------------------+\n",
      "only showing top 20 rows\n",
      "\n"
     ]
    },
    {
     "name": "stderr",
     "output_type": "stream",
     "text": [
      "                                                                                \r"
     ]
    }
   ],
   "source": [
    "airlineRank.show()"
   ]
  },
  {
   "cell_type": "code",
   "execution_count": 161,
   "metadata": {},
   "outputs": [],
   "source": [
    "#1 add a new column to show ratio of delayed flights for each airline\n",
    "numDelayedByAirline = numDelayedByAirline\\\n",
    "    .join(airlineRank, \"Airline\")\\\n",
    "    .withColumn(\"alldelayedRatio\", ((func.col(\"allSumDelayedByAirline\") / func.col(\"allflightCountByAirline\")) * 100))\\\n",
    "    .drop(\"count\")\n",
    "#CHANGE"
   ]
  },
  {
   "cell_type": "code",
   "execution_count": 91,
   "metadata": {},
   "outputs": [
    {
     "name": "stderr",
     "output_type": "stream",
     "text": [
      "                                                                                \r"
     ]
    },
    {
     "name": "stdout",
     "output_type": "stream",
     "text": [
      "+--------------------+-----------------------+------------------------+------------------+\n",
      "|             Airline|2021sumDelayedByAirline|2021flightCountByAirline|  2021delayedRatio|\n",
      "+--------------------+-----------------------+------------------------+------------------+\n",
      "|GoJet Airlines, L...|                  12563|                   60143|20.888548958316015|\n",
      "|   Endeavor Air Inc.|                  27145|                  266867| 10.17173348521923|\n",
      "|       Allegiant Air|                  35903|                  115881|30.982645990283135|\n",
      "|SkyWest Airlines ...|                 135451|                  753343| 17.97999052224551|\n",
      "|         Horizon Air|                  16434|                  111628|14.722112731572723|\n",
      "|United Air Lines ...|                  94483|                  446837| 21.14484700237447|\n",
      "|Air Wisconsin Air...|                  16547|                   80256| 20.61777312599681|\n",
      "|         Comair Inc.|                  37333|                  222602|16.771188039640254|\n",
      "|Frontier Airlines...|                  35672|                  137142|26.010995902057722|\n",
      "|Southwest Airline...|                 308703|                 1064640|28.995998647430117|\n",
      "+--------------------+-----------------------+------------------------+------------------+\n",
      "only showing top 10 rows\n",
      "\n"
     ]
    }
   ],
   "source": [
    "#1\n",
    "numDelayedByAirline.show(10)"
   ]
  },
  {
   "cell_type": "code",
   "execution_count": 162,
   "metadata": {},
   "outputs": [
    {
     "name": "stderr",
     "output_type": "stream",
     "text": [
      "                                                                                \r"
     ]
    }
   ],
   "source": [
    "#Creates csv with specified data (DONT RUN UNLESS NEEDED)\n",
    "numDelayedByAirline.write.option(\"header\",True).csv(\"allnumDelayedByAirline\")"
   ]
  },
  {
   "cell_type": "code",
   "execution_count": 163,
   "metadata": {},
   "outputs": [],
   "source": [
    "#total flights for each of the origin cities\n",
    "cityRank = combinedFlightsDF.groupBy(\"OriginCityName\").count() \n",
    "cityRank = cityRank.withColumnRenamed(\"count\", \"alltotalFlightsByCity\") #CHANGE"
   ]
  },
  {
   "cell_type": "code",
   "execution_count": 164,
   "metadata": {},
   "outputs": [
    {
     "name": "stderr",
     "output_type": "stream",
     "text": [
      "[Stage 232:======================================================>(76 + 1) / 77]\r"
     ]
    },
    {
     "name": "stdout",
     "output_type": "stream",
     "text": [
      "+------------------------+-------------------+\n",
      "|OriginCityName          |allsumDelayedByCity|\n",
      "+------------------------+-------------------+\n",
      "|Gainesville, FL         |2847               |\n",
      "|Richmond, VA            |19749              |\n",
      "|Ontario, CA             |15887              |\n",
      "|Pago Pago, TT           |113                |\n",
      "|Tucson, AZ              |11284              |\n",
      "|Myrtle Beach, SC        |10761              |\n",
      "|Medford, OR             |5562               |\n",
      "|Palm Springs, CA        |9311               |\n",
      "|Durango, CO             |3502               |\n",
      "|Corpus Christi, TX      |3734               |\n",
      "|Mobile, AL              |4294               |\n",
      "|Dubuque, IA             |442                |\n",
      "|Pensacola, FL           |8954               |\n",
      "|Huntsville, AL          |6572               |\n",
      "|Fort Myers, FL          |31883              |\n",
      "|Columbus, GA            |894                |\n",
      "|Springfield, IL         |1419               |\n",
      "|San Juan, PR            |27812              |\n",
      "|Montrose/Delta, CO      |2692               |\n",
      "|Lihue, HI               |6384               |\n",
      "|Garden City, KS         |447                |\n",
      "|Harlingen/San Benito, TX|3280               |\n",
      "|Fort Smith, AR          |1198               |\n",
      "|Reno, NV                |15740              |\n",
      "|Santa Rosa, CA          |2625               |\n",
      "|Columbus, OH            |33097              |\n",
      "|Honolulu, HI            |29599              |\n",
      "|Bakersfield, CA         |1561               |\n",
      "|Tyler, TX               |942                |\n",
      "|Burlington, VT          |7822               |\n",
      "+------------------------+-------------------+\n",
      "only showing top 30 rows\n",
      "\n"
     ]
    },
    {
     "name": "stderr",
     "output_type": "stream",
     "text": [
      "                                                                                \r"
     ]
    }
   ],
   "source": [
    "# groups delayed flights by city\n",
    "numDelayedByCity = delayDF.groupBy(\"OriginCityName\").agg({\"ifDelayed\" : \"sum\"})\n",
    "numDelayedByCity = numDelayedByCity.withColumnRenamed(\"sum(ifDelayed)\", \"allsumDelayedByCity\") #CHANGE\n",
    "numDelayedByCity.show(30,truncate=False)"
   ]
  },
  {
   "cell_type": "code",
   "execution_count": 165,
   "metadata": {},
   "outputs": [],
   "source": [
    "#2 add a new column to show ratio of delayed flights for each airline\n",
    "numDelayedByCity = numDelayedByCity\\\n",
    "    .join(cityRank, \"OriginCityName\")\\\n",
    "    .withColumn(\"alldelayedRatio\", ((func.col(\"allSumDelayedByCity\") / func.col(\"alltotalFlightsByCity\")) * 100))\\\n",
    "    .drop(\"count\")\n",
    "#CHANGE"
   ]
  },
  {
   "cell_type": "code",
   "execution_count": 166,
   "metadata": {},
   "outputs": [
    {
     "name": "stderr",
     "output_type": "stream",
     "text": [
      "                                                                                \r"
     ]
    },
    {
     "name": "stdout",
     "output_type": "stream",
     "text": [
      "+---------------+-------------------+---------------------+------------------+\n",
      "| OriginCityName|allsumDelayedByCity|alltotalFlightsByCity|   alldelayedRatio|\n",
      "+---------------+-------------------+---------------------+------------------+\n",
      "|Gainesville, FL|               2847|                16524| 17.22948438634713|\n",
      "|   Richmond, VA|              19749|                96878|20.385433225293667|\n",
      "|    Ontario, CA|              15887|                91776|17.310625871687588|\n",
      "|  Pago Pago, TT|                113|                  299| 37.79264214046823|\n",
      "|     Tucson, AZ|              11284|                70842|15.928404054092205|\n",
      "+---------------+-------------------+---------------------+------------------+\n",
      "only showing top 5 rows\n",
      "\n"
     ]
    }
   ],
   "source": [
    "#2\n",
    "numDelayedByCity.show(5)"
   ]
  },
  {
   "cell_type": "code",
   "execution_count": 167,
   "metadata": {},
   "outputs": [
    {
     "name": "stderr",
     "output_type": "stream",
     "text": [
      "                                                                                \r"
     ]
    }
   ],
   "source": [
    "#Creates csv with specified data (DONT RUN UNLESS NEEDED)\n",
    "numDelayedByCity.write.option(\"header\",True).csv(\"allnumDelayedByCity\") #CHANGE"
   ]
  },
  {
   "cell_type": "code",
   "execution_count": 168,
   "metadata": {},
   "outputs": [],
   "source": [
    "#Count total # of flights by Quarter and Origin State\n",
    "timeLocationCancelledDF = delayDF.groupBy(\"Quarter\",\"OriginStateName\").count()\n",
    "timeLocationCancelledDF = timeLocationCancelledDF.withColumnRenamed(\"count\", \"alltotalFlights\") #CHANGE"
   ]
  },
  {
   "cell_type": "code",
   "execution_count": null,
   "metadata": {},
   "outputs": [],
   "source": [
    "timeLocationCancelledDF.show()"
   ]
  },
  {
   "cell_type": "code",
   "execution_count": 169,
   "metadata": {},
   "outputs": [],
   "source": [
    "#Count cancelled flight based on quarter and origin state name\n",
    "timeLocationFlightsDF = delayDF.groupBy(\"Quarter\",\"OriginStateName\").agg({\"ifCancelled\" : \"sum\"})\n",
    "timeLocationFlightsDF = timeLocationFlightsDF.withColumnRenamed(\"sum(ifCancelled)\", \"allcancelledFlights\") #CHANGE"
   ]
  },
  {
   "cell_type": "code",
   "execution_count": null,
   "metadata": {},
   "outputs": [],
   "source": [
    "timeLocationFlightsDF.show()"
   ]
  },
  {
   "cell_type": "code",
   "execution_count": 171,
   "metadata": {},
   "outputs": [
    {
     "name": "stderr",
     "output_type": "stream",
     "text": [
      "[Stage 242:==================================>                    (48 + 8) / 77]\r"
     ]
    }
   ],
   "source": [
    "#join previous dataframes\n",
    "timeLocationDF = timeLocationFlightsDF.join(timeLocationCancelledDF, [\"Quarter\", \"OriginStateName\"])"
   ]
  },
  {
   "cell_type": "code",
   "execution_count": 172,
   "metadata": {},
   "outputs": [
    {
     "name": "stderr",
     "output_type": "stream",
     "text": [
      "[Stage 242:=====================================>                 (53 + 8) / 77]\r"
     ]
    },
    {
     "name": "stderr",
     "output_type": "stream",
     "text": [
      "                                                                                \r"
     ]
    }
   ],
   "source": [
    "#calculate ration of cancelled flights / total flights based on quarter + origin state\n",
    "timeLocationDF = timeLocationDF.withColumn(\"alltimeLocationCancellationRatio\", ((func.col(\"allcancelledFlights\") / func.col(\"alltotalFlights\")) * 100))\n",
    "#CHANGE"
   ]
  },
  {
   "cell_type": "code",
   "execution_count": 62,
   "metadata": {},
   "outputs": [
    {
     "name": "stderr",
     "output_type": "stream",
     "text": [
      "                                                                                \r"
     ]
    },
    {
     "name": "stdout",
     "output_type": "stream",
     "text": [
      "+-------+-------------------+--------------------+----------------+---------------------------------+\n",
      "|Quarter|    OriginStateName|2022cancelledFlights|2022totalFlights|2022timeLocationCancellationRatio|\n",
      "+-------+-------------------+--------------------+----------------+---------------------------------+\n",
      "|      2|               Ohio|                 742|           24548|                3.022649503014502|\n",
      "|      2|      Massachusetts|                1277|           36848|               3.4655883630047764|\n",
      "|      2|         New Mexico|                  65|            6278|               1.0353615801210576|\n",
      "|      2|             Hawaii|                 233|           30792|                0.756690049363471|\n",
      "|      2|            Vermont|                 114|            2535|                4.497041420118343|\n",
      "|      2|             Nevada|                 763|           47811|               1.5958670598816171|\n",
      "|      2|          Louisiana|                 358|           17803|               2.0108970398247488|\n",
      "|      2|             Kansas|                  50|            3905|               1.2804097311139564|\n",
      "|      2|           Oklahoma|                 141|            9872|               1.4282820097244733|\n",
      "|      2|            Wyoming|                  46|            1750|               2.6285714285714286|\n",
      "|      2|         California|                2432|          187240|               1.2988677632984404|\n",
      "|      2|              Texas|                3482|          187306|               1.8589901017586195|\n",
      "|      2|U.S. Virgin Islands|                  29|            1846|                1.570964247020585|\n",
      "|      2|            Florida|                5402|          151702|               3.5609286627730685|\n",
      "|      2|           Arkansas|                  89|            7017|                1.268348296993017|\n",
      "|      2|        Puerto Rico|                 272|            8771|                3.101128719644282|\n",
      "|      2|     South Carolina|                 559|           18536|               3.0157531290461805|\n",
      "|      2|        Connecticut|                 195|            5999|               3.2505417569594934|\n",
      "|      2|       Rhode Island|                 165|            4140|                3.985507246376811|\n",
      "|      2|         Washington|                1068|           53537|                1.994882044193735|\n",
      "+-------+-------------------+--------------------+----------------+---------------------------------+\n",
      "only showing top 20 rows\n",
      "\n"
     ]
    }
   ],
   "source": [
    "# Cancelation based on Time + Location\n",
    "timeLocationDF.show()"
   ]
  },
  {
   "cell_type": "code",
   "execution_count": 173,
   "metadata": {},
   "outputs": [
    {
     "name": "stderr",
     "output_type": "stream",
     "text": [
      "                                                                                \r"
     ]
    }
   ],
   "source": [
    "#3 Creates csv with specified data (DONT RUN UNLESS NEEDED)\n",
    "timeLocationDF.write.option(\"header\",True).csv(\"alltimeLocationCancellation\") #CHANGE"
   ]
  },
  {
   "cell_type": "code",
   "execution_count": 174,
   "metadata": {},
   "outputs": [],
   "source": [
    "#4 delayed flights\n",
    "delayedFlights = delayDF.groupBy(\"ifDelayed\").count()\n",
    "delayedFlights = delayedFlights.withColumnRenamed(\"count\", \"allcount\") #CHANGE"
   ]
  },
  {
   "cell_type": "code",
   "execution_count": null,
   "metadata": {},
   "outputs": [],
   "source": [
    "delayedFlights.show() #1 - Delayed, 0 - Not delayed"
   ]
  },
  {
   "cell_type": "code",
   "execution_count": 175,
   "metadata": {},
   "outputs": [
    {
     "name": "stderr",
     "output_type": "stream",
     "text": [
      "                                                                                \r"
     ]
    }
   ],
   "source": [
    "#Creates csv with specified data (DONT RUN UNLESS NEEDED)\n",
    "delayedFlights.write.option(\"header\",True).csv(\"alldelayedFlights\") #CHANGE"
   ]
  },
  {
   "cell_type": "code",
   "execution_count": 176,
   "metadata": {},
   "outputs": [],
   "source": [
    "#5 cancelled flights\n",
    "cancelledFlights = combinedFlightsDF.groupBy(\"Cancelled\").count()\n",
    "cancelledFlights = cancelledFlights.withColumnRenamed(\"count\", \"allcount\") #CHANGE"
   ]
  },
  {
   "cell_type": "code",
   "execution_count": null,
   "metadata": {},
   "outputs": [],
   "source": [
    "cancelledFlights.show()"
   ]
  },
  {
   "cell_type": "code",
   "execution_count": 177,
   "metadata": {},
   "outputs": [
    {
     "name": "stderr",
     "output_type": "stream",
     "text": [
      "                                                                                \r"
     ]
    }
   ],
   "source": [
    "#Creates csv with specified data (DONT RUN UNLESS NEEDED)\n",
    "cancelledFlights.write.option(\"header\",True).csv(\"allcancelledFlights\") #CHANGE"
   ]
  },
  {
   "cell_type": "code",
   "execution_count": 178,
   "metadata": {},
   "outputs": [],
   "source": [
    "#categorize flights by date\n",
    "dayOfWeekRank = combinedFlightsDF.groupBy(\"DayOfWeek\").count()\n",
    "dayOfWeekRank = dayOfWeekRank.withColumnRenamed(\"count\", \"alltotalFlightsOnDay\") #CHANGE"
   ]
  },
  {
   "cell_type": "code",
   "execution_count": 70,
   "metadata": {},
   "outputs": [
    {
     "name": "stderr",
     "output_type": "stream",
     "text": [
      "[Stage 106:=============================================>          (9 + 2) / 11]\r"
     ]
    },
    {
     "name": "stdout",
     "output_type": "stream",
     "text": [
      "+---------+---------------------+\n",
      "|DayOfWeek|2022totalFlightsOnDay|\n",
      "+---------+---------------------+\n",
      "|        1|               600370|\n",
      "|        6|               535618|\n",
      "|        3|               566951|\n",
      "|        5|               605385|\n",
      "|        4|               603939|\n",
      "|        7|               609250|\n",
      "|        2|               556805|\n",
      "+---------+---------------------+\n",
      "\n"
     ]
    },
    {
     "name": "stderr",
     "output_type": "stream",
     "text": [
      "                                                                                \r"
     ]
    }
   ],
   "source": [
    "dayOfWeekRank.show()"
   ]
  },
  {
   "cell_type": "code",
   "execution_count": 179,
   "metadata": {},
   "outputs": [],
   "source": [
    "# group delayed flights by day of the week\n",
    "delayedFlightByDay = delayDF.groupBy(\"DayOfWeek\").agg({\"ifDelayed\" : \"sum\"})\n",
    "delayedFlightByDay = delayedFlightByDay.withColumnRenamed(\"sum(ifDelayed)\", \"allsumDelayedByWeekDay\") #TODO NO RENAMING"
   ]
  },
  {
   "cell_type": "code",
   "execution_count": null,
   "metadata": {},
   "outputs": [],
   "source": [
    "delayedFlightByDay.show()"
   ]
  },
  {
   "cell_type": "code",
   "execution_count": 180,
   "metadata": {},
   "outputs": [],
   "source": [
    "# group cancelled flights by day of the week\n",
    "cancelledFlightByDay = delayDF.groupBy(\"DayOfWeek\").agg({\"ifCancelled\" : \"sum\"})\n",
    "cancelledFlightByDay = cancelledFlightByDay.withColumnRenamed(\"sum(ifCancelled)\", \"allsumCancelledByWeekDay\") "
   ]
  },
  {
   "cell_type": "code",
   "execution_count": null,
   "metadata": {},
   "outputs": [],
   "source": [
    "cancelledFlightByDay.show()"
   ]
  },
  {
   "cell_type": "code",
   "execution_count": 181,
   "metadata": {},
   "outputs": [],
   "source": [
    "analysisByWeekDay = dayOfWeekRank.join(delayedFlightByDay, [\"DayOfWeek\"]).join(cancelledFlightByDay, [\"DayOfWeek\"])"
   ]
  },
  {
   "cell_type": "code",
   "execution_count": 183,
   "metadata": {},
   "outputs": [],
   "source": [
    "analysisByWeekDay = analysisByWeekDay.withColumn(\"allCancelledRatio\", (( func.col(\"allsumCancelledByWeekDay\") / func.col(\"alltotalFlightsOnDay\")) * 100))"
   ]
  },
  {
   "cell_type": "code",
   "execution_count": 184,
   "metadata": {},
   "outputs": [],
   "source": [
    "analysisByWeekDay = analysisByWeekDay.withColumn(\"allDelayedRatio\", ((func.col(\"allsumDelayedByWeekDay\") / func.col(\"alltotalFlightsOnDay\")) * 100))"
   ]
  },
  {
   "cell_type": "code",
   "execution_count": 186,
   "metadata": {},
   "outputs": [],
   "source": [
    "analysisByWeekDay = analysisByWeekDay.withColumn(\"allDelayed+CancelledRatio\", (((func.col(\"allsumDelayedByWeekDay\") + func.col(\"allsumCancelledByWeekDay\")) / func.col(\"alltotalFlightsOnDay\")) * 100))"
   ]
  },
  {
   "cell_type": "code",
   "execution_count": 187,
   "metadata": {},
   "outputs": [
    {
     "name": "stderr",
     "output_type": "stream",
     "text": [
      "                                                                                \r"
     ]
    },
    {
     "name": "stdout",
     "output_type": "stream",
     "text": [
      "+---------+--------------------+----------------------+------------------------+------------------+------------------+-------------------------+\n",
      "|DayOfWeek|alltotalFlightsOnDay|allsumDelayedByWeekDay|allsumCancelledByWeekDay| allCancelledRatio|   allDelayedRatio|allDelayed+CancelledRatio|\n",
      "+---------+--------------------+----------------------+------------------------+------------------+------------------+-------------------------+\n",
      "|        1|             4356643|                917639|                  119691|2.7473217337293874| 21.06298358621535|        23.81030531994474|\n",
      "|        6|             3722791|                726669|                   94151| 2.529043397816316| 19.51946805501571|       22.048511452832027|\n",
      "|        3|             4124239|                787556|                  109080| 2.644851571405052| 19.09578955050859|       21.740641121913644|\n",
      "|        5|             4353468|                978903|                  113789|2.6137552865899094|22.485590797956938|        25.09934608454685|\n",
      "|        4|             4332718|                948971|                  123836|2.8581597048319325|21.902440915840817|        24.76060062067275|\n",
      "|        7|             4253915|                901112|                  115703|2.7199180049436813|21.183121900649166|        23.90303990559285|\n",
      "|        2|             4050008|                765365|                  101017|2.4942419866824954|18.897863905454013|        21.39210589213651|\n",
      "+---------+--------------------+----------------------+------------------------+------------------+------------------+-------------------------+\n",
      "\n"
     ]
    }
   ],
   "source": [
    "#6 Days of the week analysis\n",
    "analysisByWeekDay.show()"
   ]
  },
  {
   "cell_type": "code",
   "execution_count": 189,
   "metadata": {},
   "outputs": [
    {
     "name": "stderr",
     "output_type": "stream",
     "text": [
      "[Stage 257:=======>       (41 + 8) / 77][Stage 258:>               (0 + 0) / 77]\r"
     ]
    },
    {
     "name": "stdout",
     "output_type": "stream",
     "text": [
      "22/11/24 10:20:28 WARN BasicWriteTaskStatsTracker: Expected 1 files, but only saw 0. This could be due to the output format not writing empty files, or files being not immediately visible in the filesystem.\n",
      "22/11/24 10:20:28 WARN BasicWriteTaskStatsTracker: Expected 1 files, but only saw 0. This could be due to the output format not writing empty files, or files being not immediately visible in the filesystem.\n",
      "22/11/24 10:20:28 WARN BasicWriteTaskStatsTracker: Expected 1 files, but only saw 0. This could be due to the output format not writing empty files, or files being not immediately visible in the filesystem.\n"
     ]
    },
    {
     "name": "stderr",
     "output_type": "stream",
     "text": [
      "[Stage 257:========>      (43 + 8) / 77][Stage 258:>               (0 + 0) / 77]\r"
     ]
    },
    {
     "name": "stdout",
     "output_type": "stream",
     "text": [
      "22/11/24 10:20:28 WARN BasicWriteTaskStatsTracker: Expected 1 files, but only saw 0. This could be due to the output format not writing empty files, or files being not immediately visible in the filesystem.\n",
      "22/11/24 10:20:28 WARN BasicWriteTaskStatsTracker: Expected 1 files, but only saw 0. This could be due to the output format not writing empty files, or files being not immediately visible in the filesystem.\n"
     ]
    },
    {
     "name": "stderr",
     "output_type": "stream",
     "text": [
      "[Stage 257:========>      (46 + 8) / 77][Stage 258:>               (0 + 0) / 77]\r"
     ]
    },
    {
     "name": "stdout",
     "output_type": "stream",
     "text": [
      "22/11/24 10:20:28 WARN BasicWriteTaskStatsTracker: Expected 1 files, but only saw 0. This could be due to the output format not writing empty files, or files being not immediately visible in the filesystem.\n"
     ]
    },
    {
     "name": "stderr",
     "output_type": "stream",
     "text": [
      "[Stage 257:=========>     (47 + 8) / 77][Stage 258:>               (0 + 0) / 77]\r"
     ]
    },
    {
     "name": "stdout",
     "output_type": "stream",
     "text": [
      "22/11/24 10:20:29 WARN BasicWriteTaskStatsTracker: Expected 1 files, but only saw 0. This could be due to the output format not writing empty files, or files being not immediately visible in the filesystem.\n"
     ]
    },
    {
     "name": "stderr",
     "output_type": "stream",
     "text": [
      "[Stage 257:=========>     (48 + 8) / 77][Stage 258:>               (0 + 0) / 77]\r"
     ]
    },
    {
     "name": "stdout",
     "output_type": "stream",
     "text": [
      "22/11/24 10:20:30 WARN BasicWriteTaskStatsTracker: Expected 1 files, but only saw 0. This could be due to the output format not writing empty files, or files being not immediately visible in the filesystem.\n"
     ]
    },
    {
     "name": "stderr",
     "output_type": "stream",
     "text": [
      "                                                                                \r"
     ]
    }
   ],
   "source": [
    "#Creates csv with specified data (DONT RUN UNLESS NEEDED)\n",
    "analysisByWeekDay.write.option(\"header\",True).csv(\"allanalysisByWeekDay\")"
   ]
  }
 ],
 "metadata": {
  "kernelspec": {
   "display_name": "Python 3.9.7 ('base')",
   "language": "python",
   "name": "python3"
  },
  "language_info": {
   "codemirror_mode": {
    "name": "ipython",
    "version": 3
   },
   "file_extension": ".py",
   "mimetype": "text/x-python",
   "name": "python",
   "nbconvert_exporter": "python",
   "pygments_lexer": "ipython3",
   "version": "3.9.7"
  },
  "orig_nbformat": 4,
  "vscode": {
   "interpreter": {
    "hash": "d1943d34fd5fa7f15701143ece1921e013240ae3b26bb534409e23209b0a7faf"
   }
  }
 },
 "nbformat": 4,
 "nbformat_minor": 2
}
